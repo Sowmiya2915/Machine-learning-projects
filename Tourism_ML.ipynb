{
  "nbformat": 4,
  "nbformat_minor": 0,
  "metadata": {
    "colab": {
      "provenance": []
    },
    "kernelspec": {
      "name": "python3",
      "display_name": "Python 3"
    },
    "language_info": {
      "name": "python"
    }
  },
  "cells": [
    {
      "cell_type": "markdown",
      "source": [
        "# ✈️ ***Prediction of customer buying ticket in social media of tourism company*** 🏖️"
      ],
      "metadata": {
        "id": "dVTISNQ0PblD"
      }
    },
    {
      "cell_type": "markdown",
      "source": [
        "*   The objective for an online tourism website is to implement a targeted marketing strategy, transitioning from a broad outreach to a digital approach, in collaboration with a social networking platform.\n",
        "\n",
        "*  The aim is to understand and leverage the digital and social behavior of customers to deliver targeted digital advertisements to users who exhibit a high likelihood of purchasing travel products\n",
        "\n"
      ],
      "metadata": {
        "id": "AnSFfDrcQmuS"
      }
    },
    {
      "cell_type": "code",
      "source": [
        "import pandas as pd\n",
        "df = pd.read_csv(\"/content/Customer behaviour Tourism.csv\")"
      ],
      "metadata": {
        "id": "5G8tSIwpPmYX"
      },
      "execution_count": null,
      "outputs": []
    },
    {
      "cell_type": "code",
      "source": [
        "df"
      ],
      "metadata": {
        "colab": {
          "base_uri": "https://localhost:8080/",
          "height": 443
        },
        "id": "r7TzTSyxBnau",
        "outputId": "0891e281-6ce6-457b-da00-80bd47987593"
      },
      "execution_count": null,
      "outputs": [
        {
          "output_type": "execute_result",
          "data": {
            "text/plain": [
              "        UserID Taken_product  Yearly_avg_view_on_travel_page preferred_device  \\\n",
              "0      1000001           Yes                           307.0  iOS and Android   \n",
              "1      1000002            No                           367.0              iOS   \n",
              "2      1000003           Yes                           277.0  iOS and Android   \n",
              "3      1000004            No                           247.0              iOS   \n",
              "4      1000005            No                           202.0  iOS and Android   \n",
              "...        ...           ...                             ...              ...   \n",
              "11755  1011756            No                           279.0           Laptop   \n",
              "11756  1011757            No                           305.0              Tab   \n",
              "11757  1011758            No                           214.0              Tab   \n",
              "11758  1011759            No                           382.0           Laptop   \n",
              "11759  1011760            No                           270.0              Tab   \n",
              "\n",
              "       total_likes_on_outstation_checkin_given yearly_avg_Outstation_checkins  \\\n",
              "0                                      38570.0                              1   \n",
              "1                                       9765.0                              1   \n",
              "2                                      48055.0                              1   \n",
              "3                                      48720.0                              1   \n",
              "4                                      20685.0                              1   \n",
              "...                                        ...                            ...   \n",
              "11755                                  30987.0                             23   \n",
              "11756                                  21510.0                              6   \n",
              "11757                                   5478.0                              4   \n",
              "11758                                  35851.0                              2   \n",
              "11759                                  22025.0                              8   \n",
              "\n",
              "      member_in_family preferred_location_type  \\\n",
              "0                    2               Financial   \n",
              "1                    1               Financial   \n",
              "2                    2                   Other   \n",
              "3                    4               Financial   \n",
              "4                    1                 Medical   \n",
              "...                ...                     ...   \n",
              "11755                2         Historical site   \n",
              "11756                1         Historical site   \n",
              "11757                3                   Beach   \n",
              "11758                3         Historical site   \n",
              "11759                3         Historical site   \n",
              "\n",
              "       Yearly_avg_comment_on_travel_page  \\\n",
              "0                                   94.0   \n",
              "1                                   61.0   \n",
              "2                                   92.0   \n",
              "3                                   56.0   \n",
              "4                                   40.0   \n",
              "...                                  ...   \n",
              "11755                               58.0   \n",
              "11756                               55.0   \n",
              "11757                              103.0   \n",
              "11758                               83.0   \n",
              "11759                              104.0   \n",
              "\n",
              "       total_likes_on_outofstation_checkin_received  \\\n",
              "0                                              5993   \n",
              "1                                              5130   \n",
              "2                                              2090   \n",
              "3                                              2909   \n",
              "4                                              3468   \n",
              "...                                             ...   \n",
              "11755                                          2616   \n",
              "11756                                         10041   \n",
              "11757                                          6203   \n",
              "11758                                          5444   \n",
              "11759                                          4470   \n",
              "\n",
              "       week_since_last_outstation_checkin following_company_page  \\\n",
              "0                                       8                    Yes   \n",
              "1                                       1                     No   \n",
              "2                                       6                    Yes   \n",
              "3                                       1                    Yes   \n",
              "4                                       9                     No   \n",
              "...                                   ...                    ...   \n",
              "11755                                   4                     No   \n",
              "11756                                   4                     No   \n",
              "11757                                   3                    Yes   \n",
              "11758                                   3                     No   \n",
              "11759                                   2                     No   \n",
              "\n",
              "       montly_avg_comment_on_company_page working_flag  \\\n",
              "0                                      11           No   \n",
              "1                                      23          Yes   \n",
              "2                                      15           No   \n",
              "3                                      11           No   \n",
              "4                                      12           No   \n",
              "...                                   ...          ...   \n",
              "11755                                  36           No   \n",
              "11756                                  30           No   \n",
              "11757                                  40          Yes   \n",
              "11758                                  32           No   \n",
              "11759                                  29           No   \n",
              "\n",
              "       travelling_network_rating  Adult_flag  \\\n",
              "0                              1         0.0   \n",
              "1                              4         1.0   \n",
              "2                              2         0.0   \n",
              "3                              3         0.0   \n",
              "4                              4         1.0   \n",
              "...                          ...         ...   \n",
              "11755                          3         1.0   \n",
              "11756                          1         1.0   \n",
              "11757                          2         1.0   \n",
              "11758                          4         0.0   \n",
              "11759                          1         0.0   \n",
              "\n",
              "       Daily_Avg_mins_spend_on_traveling_page  \n",
              "0                                         8.0  \n",
              "1                                        10.0  \n",
              "2                                         7.0  \n",
              "3                                         8.0  \n",
              "4                                         6.0  \n",
              "...                                       ...  \n",
              "11755                                    23.0  \n",
              "11756                                    11.0  \n",
              "11757                                    12.0  \n",
              "11758                                    20.0  \n",
              "11759                                    14.0  \n",
              "\n",
              "[11760 rows x 17 columns]"
            ],
            "text/html": [
              "\n",
              "  <div id=\"df-8525720f-1ee4-4294-a3ed-0c681ebea2ad\" class=\"colab-df-container\">\n",
              "    <div>\n",
              "<style scoped>\n",
              "    .dataframe tbody tr th:only-of-type {\n",
              "        vertical-align: middle;\n",
              "    }\n",
              "\n",
              "    .dataframe tbody tr th {\n",
              "        vertical-align: top;\n",
              "    }\n",
              "\n",
              "    .dataframe thead th {\n",
              "        text-align: right;\n",
              "    }\n",
              "</style>\n",
              "<table border=\"1\" class=\"dataframe\">\n",
              "  <thead>\n",
              "    <tr style=\"text-align: right;\">\n",
              "      <th></th>\n",
              "      <th>UserID</th>\n",
              "      <th>Taken_product</th>\n",
              "      <th>Yearly_avg_view_on_travel_page</th>\n",
              "      <th>preferred_device</th>\n",
              "      <th>total_likes_on_outstation_checkin_given</th>\n",
              "      <th>yearly_avg_Outstation_checkins</th>\n",
              "      <th>member_in_family</th>\n",
              "      <th>preferred_location_type</th>\n",
              "      <th>Yearly_avg_comment_on_travel_page</th>\n",
              "      <th>total_likes_on_outofstation_checkin_received</th>\n",
              "      <th>week_since_last_outstation_checkin</th>\n",
              "      <th>following_company_page</th>\n",
              "      <th>montly_avg_comment_on_company_page</th>\n",
              "      <th>working_flag</th>\n",
              "      <th>travelling_network_rating</th>\n",
              "      <th>Adult_flag</th>\n",
              "      <th>Daily_Avg_mins_spend_on_traveling_page</th>\n",
              "    </tr>\n",
              "  </thead>\n",
              "  <tbody>\n",
              "    <tr>\n",
              "      <th>0</th>\n",
              "      <td>1000001</td>\n",
              "      <td>Yes</td>\n",
              "      <td>307.0</td>\n",
              "      <td>iOS and Android</td>\n",
              "      <td>38570.0</td>\n",
              "      <td>1</td>\n",
              "      <td>2</td>\n",
              "      <td>Financial</td>\n",
              "      <td>94.0</td>\n",
              "      <td>5993</td>\n",
              "      <td>8</td>\n",
              "      <td>Yes</td>\n",
              "      <td>11</td>\n",
              "      <td>No</td>\n",
              "      <td>1</td>\n",
              "      <td>0.0</td>\n",
              "      <td>8.0</td>\n",
              "    </tr>\n",
              "    <tr>\n",
              "      <th>1</th>\n",
              "      <td>1000002</td>\n",
              "      <td>No</td>\n",
              "      <td>367.0</td>\n",
              "      <td>iOS</td>\n",
              "      <td>9765.0</td>\n",
              "      <td>1</td>\n",
              "      <td>1</td>\n",
              "      <td>Financial</td>\n",
              "      <td>61.0</td>\n",
              "      <td>5130</td>\n",
              "      <td>1</td>\n",
              "      <td>No</td>\n",
              "      <td>23</td>\n",
              "      <td>Yes</td>\n",
              "      <td>4</td>\n",
              "      <td>1.0</td>\n",
              "      <td>10.0</td>\n",
              "    </tr>\n",
              "    <tr>\n",
              "      <th>2</th>\n",
              "      <td>1000003</td>\n",
              "      <td>Yes</td>\n",
              "      <td>277.0</td>\n",
              "      <td>iOS and Android</td>\n",
              "      <td>48055.0</td>\n",
              "      <td>1</td>\n",
              "      <td>2</td>\n",
              "      <td>Other</td>\n",
              "      <td>92.0</td>\n",
              "      <td>2090</td>\n",
              "      <td>6</td>\n",
              "      <td>Yes</td>\n",
              "      <td>15</td>\n",
              "      <td>No</td>\n",
              "      <td>2</td>\n",
              "      <td>0.0</td>\n",
              "      <td>7.0</td>\n",
              "    </tr>\n",
              "    <tr>\n",
              "      <th>3</th>\n",
              "      <td>1000004</td>\n",
              "      <td>No</td>\n",
              "      <td>247.0</td>\n",
              "      <td>iOS</td>\n",
              "      <td>48720.0</td>\n",
              "      <td>1</td>\n",
              "      <td>4</td>\n",
              "      <td>Financial</td>\n",
              "      <td>56.0</td>\n",
              "      <td>2909</td>\n",
              "      <td>1</td>\n",
              "      <td>Yes</td>\n",
              "      <td>11</td>\n",
              "      <td>No</td>\n",
              "      <td>3</td>\n",
              "      <td>0.0</td>\n",
              "      <td>8.0</td>\n",
              "    </tr>\n",
              "    <tr>\n",
              "      <th>4</th>\n",
              "      <td>1000005</td>\n",
              "      <td>No</td>\n",
              "      <td>202.0</td>\n",
              "      <td>iOS and Android</td>\n",
              "      <td>20685.0</td>\n",
              "      <td>1</td>\n",
              "      <td>1</td>\n",
              "      <td>Medical</td>\n",
              "      <td>40.0</td>\n",
              "      <td>3468</td>\n",
              "      <td>9</td>\n",
              "      <td>No</td>\n",
              "      <td>12</td>\n",
              "      <td>No</td>\n",
              "      <td>4</td>\n",
              "      <td>1.0</td>\n",
              "      <td>6.0</td>\n",
              "    </tr>\n",
              "    <tr>\n",
              "      <th>...</th>\n",
              "      <td>...</td>\n",
              "      <td>...</td>\n",
              "      <td>...</td>\n",
              "      <td>...</td>\n",
              "      <td>...</td>\n",
              "      <td>...</td>\n",
              "      <td>...</td>\n",
              "      <td>...</td>\n",
              "      <td>...</td>\n",
              "      <td>...</td>\n",
              "      <td>...</td>\n",
              "      <td>...</td>\n",
              "      <td>...</td>\n",
              "      <td>...</td>\n",
              "      <td>...</td>\n",
              "      <td>...</td>\n",
              "      <td>...</td>\n",
              "    </tr>\n",
              "    <tr>\n",
              "      <th>11755</th>\n",
              "      <td>1011756</td>\n",
              "      <td>No</td>\n",
              "      <td>279.0</td>\n",
              "      <td>Laptop</td>\n",
              "      <td>30987.0</td>\n",
              "      <td>23</td>\n",
              "      <td>2</td>\n",
              "      <td>Historical site</td>\n",
              "      <td>58.0</td>\n",
              "      <td>2616</td>\n",
              "      <td>4</td>\n",
              "      <td>No</td>\n",
              "      <td>36</td>\n",
              "      <td>No</td>\n",
              "      <td>3</td>\n",
              "      <td>1.0</td>\n",
              "      <td>23.0</td>\n",
              "    </tr>\n",
              "    <tr>\n",
              "      <th>11756</th>\n",
              "      <td>1011757</td>\n",
              "      <td>No</td>\n",
              "      <td>305.0</td>\n",
              "      <td>Tab</td>\n",
              "      <td>21510.0</td>\n",
              "      <td>6</td>\n",
              "      <td>1</td>\n",
              "      <td>Historical site</td>\n",
              "      <td>55.0</td>\n",
              "      <td>10041</td>\n",
              "      <td>4</td>\n",
              "      <td>No</td>\n",
              "      <td>30</td>\n",
              "      <td>No</td>\n",
              "      <td>1</td>\n",
              "      <td>1.0</td>\n",
              "      <td>11.0</td>\n",
              "    </tr>\n",
              "    <tr>\n",
              "      <th>11757</th>\n",
              "      <td>1011758</td>\n",
              "      <td>No</td>\n",
              "      <td>214.0</td>\n",
              "      <td>Tab</td>\n",
              "      <td>5478.0</td>\n",
              "      <td>4</td>\n",
              "      <td>3</td>\n",
              "      <td>Beach</td>\n",
              "      <td>103.0</td>\n",
              "      <td>6203</td>\n",
              "      <td>3</td>\n",
              "      <td>Yes</td>\n",
              "      <td>40</td>\n",
              "      <td>Yes</td>\n",
              "      <td>2</td>\n",
              "      <td>1.0</td>\n",
              "      <td>12.0</td>\n",
              "    </tr>\n",
              "    <tr>\n",
              "      <th>11758</th>\n",
              "      <td>1011759</td>\n",
              "      <td>No</td>\n",
              "      <td>382.0</td>\n",
              "      <td>Laptop</td>\n",
              "      <td>35851.0</td>\n",
              "      <td>2</td>\n",
              "      <td>3</td>\n",
              "      <td>Historical site</td>\n",
              "      <td>83.0</td>\n",
              "      <td>5444</td>\n",
              "      <td>3</td>\n",
              "      <td>No</td>\n",
              "      <td>32</td>\n",
              "      <td>No</td>\n",
              "      <td>4</td>\n",
              "      <td>0.0</td>\n",
              "      <td>20.0</td>\n",
              "    </tr>\n",
              "    <tr>\n",
              "      <th>11759</th>\n",
              "      <td>1011760</td>\n",
              "      <td>No</td>\n",
              "      <td>270.0</td>\n",
              "      <td>Tab</td>\n",
              "      <td>22025.0</td>\n",
              "      <td>8</td>\n",
              "      <td>3</td>\n",
              "      <td>Historical site</td>\n",
              "      <td>104.0</td>\n",
              "      <td>4470</td>\n",
              "      <td>2</td>\n",
              "      <td>No</td>\n",
              "      <td>29</td>\n",
              "      <td>No</td>\n",
              "      <td>1</td>\n",
              "      <td>0.0</td>\n",
              "      <td>14.0</td>\n",
              "    </tr>\n",
              "  </tbody>\n",
              "</table>\n",
              "<p>11760 rows × 17 columns</p>\n",
              "</div>\n",
              "    <div class=\"colab-df-buttons\">\n",
              "\n",
              "  <div class=\"colab-df-container\">\n",
              "    <button class=\"colab-df-convert\" onclick=\"convertToInteractive('df-8525720f-1ee4-4294-a3ed-0c681ebea2ad')\"\n",
              "            title=\"Convert this dataframe to an interactive table.\"\n",
              "            style=\"display:none;\">\n",
              "\n",
              "  <svg xmlns=\"http://www.w3.org/2000/svg\" height=\"24px\" viewBox=\"0 -960 960 960\">\n",
              "    <path d=\"M120-120v-720h720v720H120Zm60-500h600v-160H180v160Zm220 220h160v-160H400v160Zm0 220h160v-160H400v160ZM180-400h160v-160H180v160Zm440 0h160v-160H620v160ZM180-180h160v-160H180v160Zm440 0h160v-160H620v160Z\"/>\n",
              "  </svg>\n",
              "    </button>\n",
              "\n",
              "  <style>\n",
              "    .colab-df-container {\n",
              "      display:flex;\n",
              "      gap: 12px;\n",
              "    }\n",
              "\n",
              "    .colab-df-convert {\n",
              "      background-color: #E8F0FE;\n",
              "      border: none;\n",
              "      border-radius: 50%;\n",
              "      cursor: pointer;\n",
              "      display: none;\n",
              "      fill: #1967D2;\n",
              "      height: 32px;\n",
              "      padding: 0 0 0 0;\n",
              "      width: 32px;\n",
              "    }\n",
              "\n",
              "    .colab-df-convert:hover {\n",
              "      background-color: #E2EBFA;\n",
              "      box-shadow: 0px 1px 2px rgba(60, 64, 67, 0.3), 0px 1px 3px 1px rgba(60, 64, 67, 0.15);\n",
              "      fill: #174EA6;\n",
              "    }\n",
              "\n",
              "    .colab-df-buttons div {\n",
              "      margin-bottom: 4px;\n",
              "    }\n",
              "\n",
              "    [theme=dark] .colab-df-convert {\n",
              "      background-color: #3B4455;\n",
              "      fill: #D2E3FC;\n",
              "    }\n",
              "\n",
              "    [theme=dark] .colab-df-convert:hover {\n",
              "      background-color: #434B5C;\n",
              "      box-shadow: 0px 1px 3px 1px rgba(0, 0, 0, 0.15);\n",
              "      filter: drop-shadow(0px 1px 2px rgba(0, 0, 0, 0.3));\n",
              "      fill: #FFFFFF;\n",
              "    }\n",
              "  </style>\n",
              "\n",
              "    <script>\n",
              "      const buttonEl =\n",
              "        document.querySelector('#df-8525720f-1ee4-4294-a3ed-0c681ebea2ad button.colab-df-convert');\n",
              "      buttonEl.style.display =\n",
              "        google.colab.kernel.accessAllowed ? 'block' : 'none';\n",
              "\n",
              "      async function convertToInteractive(key) {\n",
              "        const element = document.querySelector('#df-8525720f-1ee4-4294-a3ed-0c681ebea2ad');\n",
              "        const dataTable =\n",
              "          await google.colab.kernel.invokeFunction('convertToInteractive',\n",
              "                                                    [key], {});\n",
              "        if (!dataTable) return;\n",
              "\n",
              "        const docLinkHtml = 'Like what you see? Visit the ' +\n",
              "          '<a target=\"_blank\" href=https://colab.research.google.com/notebooks/data_table.ipynb>data table notebook</a>'\n",
              "          + ' to learn more about interactive tables.';\n",
              "        element.innerHTML = '';\n",
              "        dataTable['output_type'] = 'display_data';\n",
              "        await google.colab.output.renderOutput(dataTable, element);\n",
              "        const docLink = document.createElement('div');\n",
              "        docLink.innerHTML = docLinkHtml;\n",
              "        element.appendChild(docLink);\n",
              "      }\n",
              "    </script>\n",
              "  </div>\n",
              "\n",
              "\n",
              "<div id=\"df-4129568a-c12d-4219-91ef-22393ec75da6\">\n",
              "  <button class=\"colab-df-quickchart\" onclick=\"quickchart('df-4129568a-c12d-4219-91ef-22393ec75da6')\"\n",
              "            title=\"Suggest charts\"\n",
              "            style=\"display:none;\">\n",
              "\n",
              "<svg xmlns=\"http://www.w3.org/2000/svg\" height=\"24px\"viewBox=\"0 0 24 24\"\n",
              "     width=\"24px\">\n",
              "    <g>\n",
              "        <path d=\"M19 3H5c-1.1 0-2 .9-2 2v14c0 1.1.9 2 2 2h14c1.1 0 2-.9 2-2V5c0-1.1-.9-2-2-2zM9 17H7v-7h2v7zm4 0h-2V7h2v10zm4 0h-2v-4h2v4z\"/>\n",
              "    </g>\n",
              "</svg>\n",
              "  </button>\n",
              "\n",
              "<style>\n",
              "  .colab-df-quickchart {\n",
              "      --bg-color: #E8F0FE;\n",
              "      --fill-color: #1967D2;\n",
              "      --hover-bg-color: #E2EBFA;\n",
              "      --hover-fill-color: #174EA6;\n",
              "      --disabled-fill-color: #AAA;\n",
              "      --disabled-bg-color: #DDD;\n",
              "  }\n",
              "\n",
              "  [theme=dark] .colab-df-quickchart {\n",
              "      --bg-color: #3B4455;\n",
              "      --fill-color: #D2E3FC;\n",
              "      --hover-bg-color: #434B5C;\n",
              "      --hover-fill-color: #FFFFFF;\n",
              "      --disabled-bg-color: #3B4455;\n",
              "      --disabled-fill-color: #666;\n",
              "  }\n",
              "\n",
              "  .colab-df-quickchart {\n",
              "    background-color: var(--bg-color);\n",
              "    border: none;\n",
              "    border-radius: 50%;\n",
              "    cursor: pointer;\n",
              "    display: none;\n",
              "    fill: var(--fill-color);\n",
              "    height: 32px;\n",
              "    padding: 0;\n",
              "    width: 32px;\n",
              "  }\n",
              "\n",
              "  .colab-df-quickchart:hover {\n",
              "    background-color: var(--hover-bg-color);\n",
              "    box-shadow: 0 1px 2px rgba(60, 64, 67, 0.3), 0 1px 3px 1px rgba(60, 64, 67, 0.15);\n",
              "    fill: var(--button-hover-fill-color);\n",
              "  }\n",
              "\n",
              "  .colab-df-quickchart-complete:disabled,\n",
              "  .colab-df-quickchart-complete:disabled:hover {\n",
              "    background-color: var(--disabled-bg-color);\n",
              "    fill: var(--disabled-fill-color);\n",
              "    box-shadow: none;\n",
              "  }\n",
              "\n",
              "  .colab-df-spinner {\n",
              "    border: 2px solid var(--fill-color);\n",
              "    border-color: transparent;\n",
              "    border-bottom-color: var(--fill-color);\n",
              "    animation:\n",
              "      spin 1s steps(1) infinite;\n",
              "  }\n",
              "\n",
              "  @keyframes spin {\n",
              "    0% {\n",
              "      border-color: transparent;\n",
              "      border-bottom-color: var(--fill-color);\n",
              "      border-left-color: var(--fill-color);\n",
              "    }\n",
              "    20% {\n",
              "      border-color: transparent;\n",
              "      border-left-color: var(--fill-color);\n",
              "      border-top-color: var(--fill-color);\n",
              "    }\n",
              "    30% {\n",
              "      border-color: transparent;\n",
              "      border-left-color: var(--fill-color);\n",
              "      border-top-color: var(--fill-color);\n",
              "      border-right-color: var(--fill-color);\n",
              "    }\n",
              "    40% {\n",
              "      border-color: transparent;\n",
              "      border-right-color: var(--fill-color);\n",
              "      border-top-color: var(--fill-color);\n",
              "    }\n",
              "    60% {\n",
              "      border-color: transparent;\n",
              "      border-right-color: var(--fill-color);\n",
              "    }\n",
              "    80% {\n",
              "      border-color: transparent;\n",
              "      border-right-color: var(--fill-color);\n",
              "      border-bottom-color: var(--fill-color);\n",
              "    }\n",
              "    90% {\n",
              "      border-color: transparent;\n",
              "      border-bottom-color: var(--fill-color);\n",
              "    }\n",
              "  }\n",
              "</style>\n",
              "\n",
              "  <script>\n",
              "    async function quickchart(key) {\n",
              "      const quickchartButtonEl =\n",
              "        document.querySelector('#' + key + ' button');\n",
              "      quickchartButtonEl.disabled = true;  // To prevent multiple clicks.\n",
              "      quickchartButtonEl.classList.add('colab-df-spinner');\n",
              "      try {\n",
              "        const charts = await google.colab.kernel.invokeFunction(\n",
              "            'suggestCharts', [key], {});\n",
              "      } catch (error) {\n",
              "        console.error('Error during call to suggestCharts:', error);\n",
              "      }\n",
              "      quickchartButtonEl.classList.remove('colab-df-spinner');\n",
              "      quickchartButtonEl.classList.add('colab-df-quickchart-complete');\n",
              "    }\n",
              "    (() => {\n",
              "      let quickchartButtonEl =\n",
              "        document.querySelector('#df-4129568a-c12d-4219-91ef-22393ec75da6 button');\n",
              "      quickchartButtonEl.style.display =\n",
              "        google.colab.kernel.accessAllowed ? 'block' : 'none';\n",
              "    })();\n",
              "  </script>\n",
              "</div>\n",
              "\n",
              "  <div id=\"id_693d3866-2b12-4f75-9c3e-1d39c9a6bf2a\">\n",
              "    <style>\n",
              "      .colab-df-generate {\n",
              "        background-color: #E8F0FE;\n",
              "        border: none;\n",
              "        border-radius: 50%;\n",
              "        cursor: pointer;\n",
              "        display: none;\n",
              "        fill: #1967D2;\n",
              "        height: 32px;\n",
              "        padding: 0 0 0 0;\n",
              "        width: 32px;\n",
              "      }\n",
              "\n",
              "      .colab-df-generate:hover {\n",
              "        background-color: #E2EBFA;\n",
              "        box-shadow: 0px 1px 2px rgba(60, 64, 67, 0.3), 0px 1px 3px 1px rgba(60, 64, 67, 0.15);\n",
              "        fill: #174EA6;\n",
              "      }\n",
              "\n",
              "      [theme=dark] .colab-df-generate {\n",
              "        background-color: #3B4455;\n",
              "        fill: #D2E3FC;\n",
              "      }\n",
              "\n",
              "      [theme=dark] .colab-df-generate:hover {\n",
              "        background-color: #434B5C;\n",
              "        box-shadow: 0px 1px 3px 1px rgba(0, 0, 0, 0.15);\n",
              "        filter: drop-shadow(0px 1px 2px rgba(0, 0, 0, 0.3));\n",
              "        fill: #FFFFFF;\n",
              "      }\n",
              "    </style>\n",
              "    <button class=\"colab-df-generate\" onclick=\"generateWithVariable('df')\"\n",
              "            title=\"Generate code using this dataframe.\"\n",
              "            style=\"display:none;\">\n",
              "\n",
              "  <svg xmlns=\"http://www.w3.org/2000/svg\" height=\"24px\"viewBox=\"0 0 24 24\"\n",
              "       width=\"24px\">\n",
              "    <path d=\"M7,19H8.4L18.45,9,17,7.55,7,17.6ZM5,21V16.75L18.45,3.32a2,2,0,0,1,2.83,0l1.4,1.43a1.91,1.91,0,0,1,.58,1.4,1.91,1.91,0,0,1-.58,1.4L9.25,21ZM18.45,9,17,7.55Zm-12,3A5.31,5.31,0,0,0,4.9,8.1,5.31,5.31,0,0,0,1,6.5,5.31,5.31,0,0,0,4.9,4.9,5.31,5.31,0,0,0,6.5,1,5.31,5.31,0,0,0,8.1,4.9,5.31,5.31,0,0,0,12,6.5,5.46,5.46,0,0,0,6.5,12Z\"/>\n",
              "  </svg>\n",
              "    </button>\n",
              "    <script>\n",
              "      (() => {\n",
              "      const buttonEl =\n",
              "        document.querySelector('#id_693d3866-2b12-4f75-9c3e-1d39c9a6bf2a button.colab-df-generate');\n",
              "      buttonEl.style.display =\n",
              "        google.colab.kernel.accessAllowed ? 'block' : 'none';\n",
              "\n",
              "      buttonEl.onclick = () => {\n",
              "        google.colab.notebook.generateWithVariable('df');\n",
              "      }\n",
              "      })();\n",
              "    </script>\n",
              "  </div>\n",
              "\n",
              "    </div>\n",
              "  </div>\n"
            ]
          },
          "metadata": {},
          "execution_count": 49
        }
      ]
    },
    {
      "cell_type": "code",
      "source": [
        "print(f\"The dataset contains {df.shape[0]} rows and {df.shape[1]} columns\")"
      ],
      "metadata": {
        "colab": {
          "base_uri": "https://localhost:8080/"
        },
        "id": "0czlhc33LxSy",
        "outputId": "8de5ffc5-2210-49e0-d61d-64eff79d30cc"
      },
      "execution_count": null,
      "outputs": [
        {
          "output_type": "stream",
          "name": "stdout",
          "text": [
            "The dataset contains 11760 rows and 17 columns\n"
          ]
        }
      ]
    },
    {
      "cell_type": "code",
      "source": [
        "df.info()"
      ],
      "metadata": {
        "colab": {
          "base_uri": "https://localhost:8080/"
        },
        "id": "qM84Gg2SM5-l",
        "outputId": "322f0a6b-56ea-4b01-fa54-4b5656b70650"
      },
      "execution_count": null,
      "outputs": [
        {
          "output_type": "stream",
          "name": "stdout",
          "text": [
            "<class 'pandas.core.frame.DataFrame'>\n",
            "RangeIndex: 11760 entries, 0 to 11759\n",
            "Data columns (total 17 columns):\n",
            " #   Column                                        Non-Null Count  Dtype  \n",
            "---  ------                                        --------------  -----  \n",
            " 0   UserID                                        11760 non-null  int64  \n",
            " 1   Taken_product                                 11760 non-null  object \n",
            " 2   Yearly_avg_view_on_travel_page                11179 non-null  float64\n",
            " 3   preferred_device                              11707 non-null  object \n",
            " 4   total_likes_on_outstation_checkin_given       11379 non-null  float64\n",
            " 5   yearly_avg_Outstation_checkins                11685 non-null  object \n",
            " 6   member_in_family                              11760 non-null  object \n",
            " 7   preferred_location_type                       11729 non-null  object \n",
            " 8   Yearly_avg_comment_on_travel_page             11554 non-null  float64\n",
            " 9   total_likes_on_outofstation_checkin_received  11760 non-null  int64  \n",
            " 10  week_since_last_outstation_checkin            11760 non-null  int64  \n",
            " 11  following_company_page                        11657 non-null  object \n",
            " 12  montly_avg_comment_on_company_page            11760 non-null  int64  \n",
            " 13  working_flag                                  11760 non-null  object \n",
            " 14  travelling_network_rating                     11760 non-null  int64  \n",
            " 15  Adult_flag                                    11759 non-null  float64\n",
            " 16  Daily_Avg_mins_spend_on_traveling_page        11759 non-null  float64\n",
            "dtypes: float64(5), int64(5), object(7)\n",
            "memory usage: 1.5+ MB\n"
          ]
        }
      ]
    },
    {
      "cell_type": "markdown",
      "source": [
        "# **overview**:\n",
        "\n",
        "The dataset contails 11760 rows and 17 columns\n",
        "\n",
        "There are 7 categorical and 10 numeric variables\n",
        "\n",
        "Few columns has missing values in it\n",
        "\n",
        "Taken Product is the target Variable"
      ],
      "metadata": {
        "id": "arhJf4pqL_UT"
      }
    },
    {
      "cell_type": "markdown",
      "source": [
        "# **Descriptive Summary**"
      ],
      "metadata": {
        "id": "rE20V51NPYUM"
      }
    },
    {
      "cell_type": "code",
      "source": [
        "df.describe().T"
      ],
      "metadata": {
        "colab": {
          "base_uri": "https://localhost:8080/",
          "height": 363
        },
        "id": "BmLcrdJePlhO",
        "outputId": "d4152382-3daf-48ea-c3bb-5ecfc30a6b74"
      },
      "execution_count": null,
      "outputs": [
        {
          "output_type": "execute_result",
          "data": {
            "text/plain": [
              "                                                count          mean  \\\n",
              "UserID                                        11760.0  1.005880e+06   \n",
              "Yearly_avg_view_on_travel_page                11179.0  2.808308e+02   \n",
              "total_likes_on_outstation_checkin_given       11379.0  2.817048e+04   \n",
              "Yearly_avg_comment_on_travel_page             11554.0  7.479003e+01   \n",
              "total_likes_on_outofstation_checkin_received  11760.0  6.531699e+03   \n",
              "week_since_last_outstation_checkin            11760.0  3.203571e+00   \n",
              "montly_avg_comment_on_company_page            11760.0  2.866088e+01   \n",
              "travelling_network_rating                     11760.0  2.712755e+00   \n",
              "Adult_flag                                    11759.0  7.939451e-01   \n",
              "Daily_Avg_mins_spend_on_traveling_page        11759.0  1.381776e+01   \n",
              "\n",
              "                                                       std        min  \\\n",
              "UserID                                         3394.963917  1000001.0   \n",
              "Yearly_avg_view_on_travel_page                   68.182958       35.0   \n",
              "total_likes_on_outstation_checkin_given       14385.032134     3570.0   \n",
              "Yearly_avg_comment_on_travel_page                24.026650        3.0   \n",
              "total_likes_on_outofstation_checkin_received   4706.613785     1009.0   \n",
              "week_since_last_outstation_checkin                2.616365        0.0   \n",
              "montly_avg_comment_on_company_page               48.660793        4.0   \n",
              "travelling_network_rating                         1.082909        1.0   \n",
              "Adult_flag                                        0.851828        0.0   \n",
              "Daily_Avg_mins_spend_on_traveling_page            9.070974        0.0   \n",
              "\n",
              "                                                     25%        50%  \\\n",
              "UserID                                        1002940.75  1005880.5   \n",
              "Yearly_avg_view_on_travel_page                    232.00      271.0   \n",
              "total_likes_on_outstation_checkin_given         16380.00    28076.0   \n",
              "Yearly_avg_comment_on_travel_page                  57.00       75.0   \n",
              "total_likes_on_outofstation_checkin_received     2940.75     4948.0   \n",
              "week_since_last_outstation_checkin                  1.00        3.0   \n",
              "montly_avg_comment_on_company_page                 17.00       22.0   \n",
              "travelling_network_rating                           2.00        3.0   \n",
              "Adult_flag                                          0.00        1.0   \n",
              "Daily_Avg_mins_spend_on_traveling_page              8.00       12.0   \n",
              "\n",
              "                                                     75%        max  \n",
              "UserID                                        1008820.25  1011760.0  \n",
              "Yearly_avg_view_on_travel_page                    324.00      464.0  \n",
              "total_likes_on_outstation_checkin_given         40525.00   252430.0  \n",
              "Yearly_avg_comment_on_travel_page                  92.00      815.0  \n",
              "total_likes_on_outofstation_checkin_received     8393.25    20065.0  \n",
              "week_since_last_outstation_checkin                  5.00       11.0  \n",
              "montly_avg_comment_on_company_page                 27.00      500.0  \n",
              "travelling_network_rating                           4.00       10.0  \n",
              "Adult_flag                                          1.00        3.0  \n",
              "Daily_Avg_mins_spend_on_traveling_page             18.00      270.0  "
            ],
            "text/html": [
              "\n",
              "  <div id=\"df-09c466e7-e678-4a9f-bce9-e14e05a829f5\" class=\"colab-df-container\">\n",
              "    <div>\n",
              "<style scoped>\n",
              "    .dataframe tbody tr th:only-of-type {\n",
              "        vertical-align: middle;\n",
              "    }\n",
              "\n",
              "    .dataframe tbody tr th {\n",
              "        vertical-align: top;\n",
              "    }\n",
              "\n",
              "    .dataframe thead th {\n",
              "        text-align: right;\n",
              "    }\n",
              "</style>\n",
              "<table border=\"1\" class=\"dataframe\">\n",
              "  <thead>\n",
              "    <tr style=\"text-align: right;\">\n",
              "      <th></th>\n",
              "      <th>count</th>\n",
              "      <th>mean</th>\n",
              "      <th>std</th>\n",
              "      <th>min</th>\n",
              "      <th>25%</th>\n",
              "      <th>50%</th>\n",
              "      <th>75%</th>\n",
              "      <th>max</th>\n",
              "    </tr>\n",
              "  </thead>\n",
              "  <tbody>\n",
              "    <tr>\n",
              "      <th>UserID</th>\n",
              "      <td>11760.0</td>\n",
              "      <td>1.005880e+06</td>\n",
              "      <td>3394.963917</td>\n",
              "      <td>1000001.0</td>\n",
              "      <td>1002940.75</td>\n",
              "      <td>1005880.5</td>\n",
              "      <td>1008820.25</td>\n",
              "      <td>1011760.0</td>\n",
              "    </tr>\n",
              "    <tr>\n",
              "      <th>Yearly_avg_view_on_travel_page</th>\n",
              "      <td>11179.0</td>\n",
              "      <td>2.808308e+02</td>\n",
              "      <td>68.182958</td>\n",
              "      <td>35.0</td>\n",
              "      <td>232.00</td>\n",
              "      <td>271.0</td>\n",
              "      <td>324.00</td>\n",
              "      <td>464.0</td>\n",
              "    </tr>\n",
              "    <tr>\n",
              "      <th>total_likes_on_outstation_checkin_given</th>\n",
              "      <td>11379.0</td>\n",
              "      <td>2.817048e+04</td>\n",
              "      <td>14385.032134</td>\n",
              "      <td>3570.0</td>\n",
              "      <td>16380.00</td>\n",
              "      <td>28076.0</td>\n",
              "      <td>40525.00</td>\n",
              "      <td>252430.0</td>\n",
              "    </tr>\n",
              "    <tr>\n",
              "      <th>Yearly_avg_comment_on_travel_page</th>\n",
              "      <td>11554.0</td>\n",
              "      <td>7.479003e+01</td>\n",
              "      <td>24.026650</td>\n",
              "      <td>3.0</td>\n",
              "      <td>57.00</td>\n",
              "      <td>75.0</td>\n",
              "      <td>92.00</td>\n",
              "      <td>815.0</td>\n",
              "    </tr>\n",
              "    <tr>\n",
              "      <th>total_likes_on_outofstation_checkin_received</th>\n",
              "      <td>11760.0</td>\n",
              "      <td>6.531699e+03</td>\n",
              "      <td>4706.613785</td>\n",
              "      <td>1009.0</td>\n",
              "      <td>2940.75</td>\n",
              "      <td>4948.0</td>\n",
              "      <td>8393.25</td>\n",
              "      <td>20065.0</td>\n",
              "    </tr>\n",
              "    <tr>\n",
              "      <th>week_since_last_outstation_checkin</th>\n",
              "      <td>11760.0</td>\n",
              "      <td>3.203571e+00</td>\n",
              "      <td>2.616365</td>\n",
              "      <td>0.0</td>\n",
              "      <td>1.00</td>\n",
              "      <td>3.0</td>\n",
              "      <td>5.00</td>\n",
              "      <td>11.0</td>\n",
              "    </tr>\n",
              "    <tr>\n",
              "      <th>montly_avg_comment_on_company_page</th>\n",
              "      <td>11760.0</td>\n",
              "      <td>2.866088e+01</td>\n",
              "      <td>48.660793</td>\n",
              "      <td>4.0</td>\n",
              "      <td>17.00</td>\n",
              "      <td>22.0</td>\n",
              "      <td>27.00</td>\n",
              "      <td>500.0</td>\n",
              "    </tr>\n",
              "    <tr>\n",
              "      <th>travelling_network_rating</th>\n",
              "      <td>11760.0</td>\n",
              "      <td>2.712755e+00</td>\n",
              "      <td>1.082909</td>\n",
              "      <td>1.0</td>\n",
              "      <td>2.00</td>\n",
              "      <td>3.0</td>\n",
              "      <td>4.00</td>\n",
              "      <td>10.0</td>\n",
              "    </tr>\n",
              "    <tr>\n",
              "      <th>Adult_flag</th>\n",
              "      <td>11759.0</td>\n",
              "      <td>7.939451e-01</td>\n",
              "      <td>0.851828</td>\n",
              "      <td>0.0</td>\n",
              "      <td>0.00</td>\n",
              "      <td>1.0</td>\n",
              "      <td>1.00</td>\n",
              "      <td>3.0</td>\n",
              "    </tr>\n",
              "    <tr>\n",
              "      <th>Daily_Avg_mins_spend_on_traveling_page</th>\n",
              "      <td>11759.0</td>\n",
              "      <td>1.381776e+01</td>\n",
              "      <td>9.070974</td>\n",
              "      <td>0.0</td>\n",
              "      <td>8.00</td>\n",
              "      <td>12.0</td>\n",
              "      <td>18.00</td>\n",
              "      <td>270.0</td>\n",
              "    </tr>\n",
              "  </tbody>\n",
              "</table>\n",
              "</div>\n",
              "    <div class=\"colab-df-buttons\">\n",
              "\n",
              "  <div class=\"colab-df-container\">\n",
              "    <button class=\"colab-df-convert\" onclick=\"convertToInteractive('df-09c466e7-e678-4a9f-bce9-e14e05a829f5')\"\n",
              "            title=\"Convert this dataframe to an interactive table.\"\n",
              "            style=\"display:none;\">\n",
              "\n",
              "  <svg xmlns=\"http://www.w3.org/2000/svg\" height=\"24px\" viewBox=\"0 -960 960 960\">\n",
              "    <path d=\"M120-120v-720h720v720H120Zm60-500h600v-160H180v160Zm220 220h160v-160H400v160Zm0 220h160v-160H400v160ZM180-400h160v-160H180v160Zm440 0h160v-160H620v160ZM180-180h160v-160H180v160Zm440 0h160v-160H620v160Z\"/>\n",
              "  </svg>\n",
              "    </button>\n",
              "\n",
              "  <style>\n",
              "    .colab-df-container {\n",
              "      display:flex;\n",
              "      gap: 12px;\n",
              "    }\n",
              "\n",
              "    .colab-df-convert {\n",
              "      background-color: #E8F0FE;\n",
              "      border: none;\n",
              "      border-radius: 50%;\n",
              "      cursor: pointer;\n",
              "      display: none;\n",
              "      fill: #1967D2;\n",
              "      height: 32px;\n",
              "      padding: 0 0 0 0;\n",
              "      width: 32px;\n",
              "    }\n",
              "\n",
              "    .colab-df-convert:hover {\n",
              "      background-color: #E2EBFA;\n",
              "      box-shadow: 0px 1px 2px rgba(60, 64, 67, 0.3), 0px 1px 3px 1px rgba(60, 64, 67, 0.15);\n",
              "      fill: #174EA6;\n",
              "    }\n",
              "\n",
              "    .colab-df-buttons div {\n",
              "      margin-bottom: 4px;\n",
              "    }\n",
              "\n",
              "    [theme=dark] .colab-df-convert {\n",
              "      background-color: #3B4455;\n",
              "      fill: #D2E3FC;\n",
              "    }\n",
              "\n",
              "    [theme=dark] .colab-df-convert:hover {\n",
              "      background-color: #434B5C;\n",
              "      box-shadow: 0px 1px 3px 1px rgba(0, 0, 0, 0.15);\n",
              "      filter: drop-shadow(0px 1px 2px rgba(0, 0, 0, 0.3));\n",
              "      fill: #FFFFFF;\n",
              "    }\n",
              "  </style>\n",
              "\n",
              "    <script>\n",
              "      const buttonEl =\n",
              "        document.querySelector('#df-09c466e7-e678-4a9f-bce9-e14e05a829f5 button.colab-df-convert');\n",
              "      buttonEl.style.display =\n",
              "        google.colab.kernel.accessAllowed ? 'block' : 'none';\n",
              "\n",
              "      async function convertToInteractive(key) {\n",
              "        const element = document.querySelector('#df-09c466e7-e678-4a9f-bce9-e14e05a829f5');\n",
              "        const dataTable =\n",
              "          await google.colab.kernel.invokeFunction('convertToInteractive',\n",
              "                                                    [key], {});\n",
              "        if (!dataTable) return;\n",
              "\n",
              "        const docLinkHtml = 'Like what you see? Visit the ' +\n",
              "          '<a target=\"_blank\" href=https://colab.research.google.com/notebooks/data_table.ipynb>data table notebook</a>'\n",
              "          + ' to learn more about interactive tables.';\n",
              "        element.innerHTML = '';\n",
              "        dataTable['output_type'] = 'display_data';\n",
              "        await google.colab.output.renderOutput(dataTable, element);\n",
              "        const docLink = document.createElement('div');\n",
              "        docLink.innerHTML = docLinkHtml;\n",
              "        element.appendChild(docLink);\n",
              "      }\n",
              "    </script>\n",
              "  </div>\n",
              "\n",
              "\n",
              "<div id=\"df-317dfe08-47c9-4e6c-900f-b974897e1fcd\">\n",
              "  <button class=\"colab-df-quickchart\" onclick=\"quickchart('df-317dfe08-47c9-4e6c-900f-b974897e1fcd')\"\n",
              "            title=\"Suggest charts\"\n",
              "            style=\"display:none;\">\n",
              "\n",
              "<svg xmlns=\"http://www.w3.org/2000/svg\" height=\"24px\"viewBox=\"0 0 24 24\"\n",
              "     width=\"24px\">\n",
              "    <g>\n",
              "        <path d=\"M19 3H5c-1.1 0-2 .9-2 2v14c0 1.1.9 2 2 2h14c1.1 0 2-.9 2-2V5c0-1.1-.9-2-2-2zM9 17H7v-7h2v7zm4 0h-2V7h2v10zm4 0h-2v-4h2v4z\"/>\n",
              "    </g>\n",
              "</svg>\n",
              "  </button>\n",
              "\n",
              "<style>\n",
              "  .colab-df-quickchart {\n",
              "      --bg-color: #E8F0FE;\n",
              "      --fill-color: #1967D2;\n",
              "      --hover-bg-color: #E2EBFA;\n",
              "      --hover-fill-color: #174EA6;\n",
              "      --disabled-fill-color: #AAA;\n",
              "      --disabled-bg-color: #DDD;\n",
              "  }\n",
              "\n",
              "  [theme=dark] .colab-df-quickchart {\n",
              "      --bg-color: #3B4455;\n",
              "      --fill-color: #D2E3FC;\n",
              "      --hover-bg-color: #434B5C;\n",
              "      --hover-fill-color: #FFFFFF;\n",
              "      --disabled-bg-color: #3B4455;\n",
              "      --disabled-fill-color: #666;\n",
              "  }\n",
              "\n",
              "  .colab-df-quickchart {\n",
              "    background-color: var(--bg-color);\n",
              "    border: none;\n",
              "    border-radius: 50%;\n",
              "    cursor: pointer;\n",
              "    display: none;\n",
              "    fill: var(--fill-color);\n",
              "    height: 32px;\n",
              "    padding: 0;\n",
              "    width: 32px;\n",
              "  }\n",
              "\n",
              "  .colab-df-quickchart:hover {\n",
              "    background-color: var(--hover-bg-color);\n",
              "    box-shadow: 0 1px 2px rgba(60, 64, 67, 0.3), 0 1px 3px 1px rgba(60, 64, 67, 0.15);\n",
              "    fill: var(--button-hover-fill-color);\n",
              "  }\n",
              "\n",
              "  .colab-df-quickchart-complete:disabled,\n",
              "  .colab-df-quickchart-complete:disabled:hover {\n",
              "    background-color: var(--disabled-bg-color);\n",
              "    fill: var(--disabled-fill-color);\n",
              "    box-shadow: none;\n",
              "  }\n",
              "\n",
              "  .colab-df-spinner {\n",
              "    border: 2px solid var(--fill-color);\n",
              "    border-color: transparent;\n",
              "    border-bottom-color: var(--fill-color);\n",
              "    animation:\n",
              "      spin 1s steps(1) infinite;\n",
              "  }\n",
              "\n",
              "  @keyframes spin {\n",
              "    0% {\n",
              "      border-color: transparent;\n",
              "      border-bottom-color: var(--fill-color);\n",
              "      border-left-color: var(--fill-color);\n",
              "    }\n",
              "    20% {\n",
              "      border-color: transparent;\n",
              "      border-left-color: var(--fill-color);\n",
              "      border-top-color: var(--fill-color);\n",
              "    }\n",
              "    30% {\n",
              "      border-color: transparent;\n",
              "      border-left-color: var(--fill-color);\n",
              "      border-top-color: var(--fill-color);\n",
              "      border-right-color: var(--fill-color);\n",
              "    }\n",
              "    40% {\n",
              "      border-color: transparent;\n",
              "      border-right-color: var(--fill-color);\n",
              "      border-top-color: var(--fill-color);\n",
              "    }\n",
              "    60% {\n",
              "      border-color: transparent;\n",
              "      border-right-color: var(--fill-color);\n",
              "    }\n",
              "    80% {\n",
              "      border-color: transparent;\n",
              "      border-right-color: var(--fill-color);\n",
              "      border-bottom-color: var(--fill-color);\n",
              "    }\n",
              "    90% {\n",
              "      border-color: transparent;\n",
              "      border-bottom-color: var(--fill-color);\n",
              "    }\n",
              "  }\n",
              "</style>\n",
              "\n",
              "  <script>\n",
              "    async function quickchart(key) {\n",
              "      const quickchartButtonEl =\n",
              "        document.querySelector('#' + key + ' button');\n",
              "      quickchartButtonEl.disabled = true;  // To prevent multiple clicks.\n",
              "      quickchartButtonEl.classList.add('colab-df-spinner');\n",
              "      try {\n",
              "        const charts = await google.colab.kernel.invokeFunction(\n",
              "            'suggestCharts', [key], {});\n",
              "      } catch (error) {\n",
              "        console.error('Error during call to suggestCharts:', error);\n",
              "      }\n",
              "      quickchartButtonEl.classList.remove('colab-df-spinner');\n",
              "      quickchartButtonEl.classList.add('colab-df-quickchart-complete');\n",
              "    }\n",
              "    (() => {\n",
              "      let quickchartButtonEl =\n",
              "        document.querySelector('#df-317dfe08-47c9-4e6c-900f-b974897e1fcd button');\n",
              "      quickchartButtonEl.style.display =\n",
              "        google.colab.kernel.accessAllowed ? 'block' : 'none';\n",
              "    })();\n",
              "  </script>\n",
              "</div>\n",
              "\n",
              "    </div>\n",
              "  </div>\n"
            ]
          },
          "metadata": {},
          "execution_count": 52
        }
      ]
    },
    {
      "cell_type": "code",
      "source": [
        "df.select_dtypes(include = ['object']).describe().T"
      ],
      "metadata": {
        "colab": {
          "base_uri": "https://localhost:8080/",
          "height": 269
        },
        "id": "YqYjn0bNQUkk",
        "outputId": "38790552-2fa1-464f-a1a6-c87117daef0f"
      },
      "execution_count": null,
      "outputs": [
        {
          "output_type": "execute_result",
          "data": {
            "text/plain": [
              "                                count unique    top  freq\n",
              "Taken_product                   11760      2     No  9864\n",
              "preferred_device                11707     10    Tab  4172\n",
              "yearly_avg_Outstation_checkins  11685     30      1  4543\n",
              "member_in_family                11760      7      3  4561\n",
              "preferred_location_type         11729     15  Beach  2424\n",
              "following_company_page          11657      5     No  8355\n",
              "working_flag                    11760      3     No  9951"
            ],
            "text/html": [
              "\n",
              "  <div id=\"df-d09fff99-dbf4-4cd2-9c05-7e44f1a3a5d3\" class=\"colab-df-container\">\n",
              "    <div>\n",
              "<style scoped>\n",
              "    .dataframe tbody tr th:only-of-type {\n",
              "        vertical-align: middle;\n",
              "    }\n",
              "\n",
              "    .dataframe tbody tr th {\n",
              "        vertical-align: top;\n",
              "    }\n",
              "\n",
              "    .dataframe thead th {\n",
              "        text-align: right;\n",
              "    }\n",
              "</style>\n",
              "<table border=\"1\" class=\"dataframe\">\n",
              "  <thead>\n",
              "    <tr style=\"text-align: right;\">\n",
              "      <th></th>\n",
              "      <th>count</th>\n",
              "      <th>unique</th>\n",
              "      <th>top</th>\n",
              "      <th>freq</th>\n",
              "    </tr>\n",
              "  </thead>\n",
              "  <tbody>\n",
              "    <tr>\n",
              "      <th>Taken_product</th>\n",
              "      <td>11760</td>\n",
              "      <td>2</td>\n",
              "      <td>No</td>\n",
              "      <td>9864</td>\n",
              "    </tr>\n",
              "    <tr>\n",
              "      <th>preferred_device</th>\n",
              "      <td>11707</td>\n",
              "      <td>10</td>\n",
              "      <td>Tab</td>\n",
              "      <td>4172</td>\n",
              "    </tr>\n",
              "    <tr>\n",
              "      <th>yearly_avg_Outstation_checkins</th>\n",
              "      <td>11685</td>\n",
              "      <td>30</td>\n",
              "      <td>1</td>\n",
              "      <td>4543</td>\n",
              "    </tr>\n",
              "    <tr>\n",
              "      <th>member_in_family</th>\n",
              "      <td>11760</td>\n",
              "      <td>7</td>\n",
              "      <td>3</td>\n",
              "      <td>4561</td>\n",
              "    </tr>\n",
              "    <tr>\n",
              "      <th>preferred_location_type</th>\n",
              "      <td>11729</td>\n",
              "      <td>15</td>\n",
              "      <td>Beach</td>\n",
              "      <td>2424</td>\n",
              "    </tr>\n",
              "    <tr>\n",
              "      <th>following_company_page</th>\n",
              "      <td>11657</td>\n",
              "      <td>5</td>\n",
              "      <td>No</td>\n",
              "      <td>8355</td>\n",
              "    </tr>\n",
              "    <tr>\n",
              "      <th>working_flag</th>\n",
              "      <td>11760</td>\n",
              "      <td>3</td>\n",
              "      <td>No</td>\n",
              "      <td>9951</td>\n",
              "    </tr>\n",
              "  </tbody>\n",
              "</table>\n",
              "</div>\n",
              "    <div class=\"colab-df-buttons\">\n",
              "\n",
              "  <div class=\"colab-df-container\">\n",
              "    <button class=\"colab-df-convert\" onclick=\"convertToInteractive('df-d09fff99-dbf4-4cd2-9c05-7e44f1a3a5d3')\"\n",
              "            title=\"Convert this dataframe to an interactive table.\"\n",
              "            style=\"display:none;\">\n",
              "\n",
              "  <svg xmlns=\"http://www.w3.org/2000/svg\" height=\"24px\" viewBox=\"0 -960 960 960\">\n",
              "    <path d=\"M120-120v-720h720v720H120Zm60-500h600v-160H180v160Zm220 220h160v-160H400v160Zm0 220h160v-160H400v160ZM180-400h160v-160H180v160Zm440 0h160v-160H620v160ZM180-180h160v-160H180v160Zm440 0h160v-160H620v160Z\"/>\n",
              "  </svg>\n",
              "    </button>\n",
              "\n",
              "  <style>\n",
              "    .colab-df-container {\n",
              "      display:flex;\n",
              "      gap: 12px;\n",
              "    }\n",
              "\n",
              "    .colab-df-convert {\n",
              "      background-color: #E8F0FE;\n",
              "      border: none;\n",
              "      border-radius: 50%;\n",
              "      cursor: pointer;\n",
              "      display: none;\n",
              "      fill: #1967D2;\n",
              "      height: 32px;\n",
              "      padding: 0 0 0 0;\n",
              "      width: 32px;\n",
              "    }\n",
              "\n",
              "    .colab-df-convert:hover {\n",
              "      background-color: #E2EBFA;\n",
              "      box-shadow: 0px 1px 2px rgba(60, 64, 67, 0.3), 0px 1px 3px 1px rgba(60, 64, 67, 0.15);\n",
              "      fill: #174EA6;\n",
              "    }\n",
              "\n",
              "    .colab-df-buttons div {\n",
              "      margin-bottom: 4px;\n",
              "    }\n",
              "\n",
              "    [theme=dark] .colab-df-convert {\n",
              "      background-color: #3B4455;\n",
              "      fill: #D2E3FC;\n",
              "    }\n",
              "\n",
              "    [theme=dark] .colab-df-convert:hover {\n",
              "      background-color: #434B5C;\n",
              "      box-shadow: 0px 1px 3px 1px rgba(0, 0, 0, 0.15);\n",
              "      filter: drop-shadow(0px 1px 2px rgba(0, 0, 0, 0.3));\n",
              "      fill: #FFFFFF;\n",
              "    }\n",
              "  </style>\n",
              "\n",
              "    <script>\n",
              "      const buttonEl =\n",
              "        document.querySelector('#df-d09fff99-dbf4-4cd2-9c05-7e44f1a3a5d3 button.colab-df-convert');\n",
              "      buttonEl.style.display =\n",
              "        google.colab.kernel.accessAllowed ? 'block' : 'none';\n",
              "\n",
              "      async function convertToInteractive(key) {\n",
              "        const element = document.querySelector('#df-d09fff99-dbf4-4cd2-9c05-7e44f1a3a5d3');\n",
              "        const dataTable =\n",
              "          await google.colab.kernel.invokeFunction('convertToInteractive',\n",
              "                                                    [key], {});\n",
              "        if (!dataTable) return;\n",
              "\n",
              "        const docLinkHtml = 'Like what you see? Visit the ' +\n",
              "          '<a target=\"_blank\" href=https://colab.research.google.com/notebooks/data_table.ipynb>data table notebook</a>'\n",
              "          + ' to learn more about interactive tables.';\n",
              "        element.innerHTML = '';\n",
              "        dataTable['output_type'] = 'display_data';\n",
              "        await google.colab.output.renderOutput(dataTable, element);\n",
              "        const docLink = document.createElement('div');\n",
              "        docLink.innerHTML = docLinkHtml;\n",
              "        element.appendChild(docLink);\n",
              "      }\n",
              "    </script>\n",
              "  </div>\n",
              "\n",
              "\n",
              "<div id=\"df-93157a59-3a77-47af-bf01-e5d4ffa52dcf\">\n",
              "  <button class=\"colab-df-quickchart\" onclick=\"quickchart('df-93157a59-3a77-47af-bf01-e5d4ffa52dcf')\"\n",
              "            title=\"Suggest charts\"\n",
              "            style=\"display:none;\">\n",
              "\n",
              "<svg xmlns=\"http://www.w3.org/2000/svg\" height=\"24px\"viewBox=\"0 0 24 24\"\n",
              "     width=\"24px\">\n",
              "    <g>\n",
              "        <path d=\"M19 3H5c-1.1 0-2 .9-2 2v14c0 1.1.9 2 2 2h14c1.1 0 2-.9 2-2V5c0-1.1-.9-2-2-2zM9 17H7v-7h2v7zm4 0h-2V7h2v10zm4 0h-2v-4h2v4z\"/>\n",
              "    </g>\n",
              "</svg>\n",
              "  </button>\n",
              "\n",
              "<style>\n",
              "  .colab-df-quickchart {\n",
              "      --bg-color: #E8F0FE;\n",
              "      --fill-color: #1967D2;\n",
              "      --hover-bg-color: #E2EBFA;\n",
              "      --hover-fill-color: #174EA6;\n",
              "      --disabled-fill-color: #AAA;\n",
              "      --disabled-bg-color: #DDD;\n",
              "  }\n",
              "\n",
              "  [theme=dark] .colab-df-quickchart {\n",
              "      --bg-color: #3B4455;\n",
              "      --fill-color: #D2E3FC;\n",
              "      --hover-bg-color: #434B5C;\n",
              "      --hover-fill-color: #FFFFFF;\n",
              "      --disabled-bg-color: #3B4455;\n",
              "      --disabled-fill-color: #666;\n",
              "  }\n",
              "\n",
              "  .colab-df-quickchart {\n",
              "    background-color: var(--bg-color);\n",
              "    border: none;\n",
              "    border-radius: 50%;\n",
              "    cursor: pointer;\n",
              "    display: none;\n",
              "    fill: var(--fill-color);\n",
              "    height: 32px;\n",
              "    padding: 0;\n",
              "    width: 32px;\n",
              "  }\n",
              "\n",
              "  .colab-df-quickchart:hover {\n",
              "    background-color: var(--hover-bg-color);\n",
              "    box-shadow: 0 1px 2px rgba(60, 64, 67, 0.3), 0 1px 3px 1px rgba(60, 64, 67, 0.15);\n",
              "    fill: var(--button-hover-fill-color);\n",
              "  }\n",
              "\n",
              "  .colab-df-quickchart-complete:disabled,\n",
              "  .colab-df-quickchart-complete:disabled:hover {\n",
              "    background-color: var(--disabled-bg-color);\n",
              "    fill: var(--disabled-fill-color);\n",
              "    box-shadow: none;\n",
              "  }\n",
              "\n",
              "  .colab-df-spinner {\n",
              "    border: 2px solid var(--fill-color);\n",
              "    border-color: transparent;\n",
              "    border-bottom-color: var(--fill-color);\n",
              "    animation:\n",
              "      spin 1s steps(1) infinite;\n",
              "  }\n",
              "\n",
              "  @keyframes spin {\n",
              "    0% {\n",
              "      border-color: transparent;\n",
              "      border-bottom-color: var(--fill-color);\n",
              "      border-left-color: var(--fill-color);\n",
              "    }\n",
              "    20% {\n",
              "      border-color: transparent;\n",
              "      border-left-color: var(--fill-color);\n",
              "      border-top-color: var(--fill-color);\n",
              "    }\n",
              "    30% {\n",
              "      border-color: transparent;\n",
              "      border-left-color: var(--fill-color);\n",
              "      border-top-color: var(--fill-color);\n",
              "      border-right-color: var(--fill-color);\n",
              "    }\n",
              "    40% {\n",
              "      border-color: transparent;\n",
              "      border-right-color: var(--fill-color);\n",
              "      border-top-color: var(--fill-color);\n",
              "    }\n",
              "    60% {\n",
              "      border-color: transparent;\n",
              "      border-right-color: var(--fill-color);\n",
              "    }\n",
              "    80% {\n",
              "      border-color: transparent;\n",
              "      border-right-color: var(--fill-color);\n",
              "      border-bottom-color: var(--fill-color);\n",
              "    }\n",
              "    90% {\n",
              "      border-color: transparent;\n",
              "      border-bottom-color: var(--fill-color);\n",
              "    }\n",
              "  }\n",
              "</style>\n",
              "\n",
              "  <script>\n",
              "    async function quickchart(key) {\n",
              "      const quickchartButtonEl =\n",
              "        document.querySelector('#' + key + ' button');\n",
              "      quickchartButtonEl.disabled = true;  // To prevent multiple clicks.\n",
              "      quickchartButtonEl.classList.add('colab-df-spinner');\n",
              "      try {\n",
              "        const charts = await google.colab.kernel.invokeFunction(\n",
              "            'suggestCharts', [key], {});\n",
              "      } catch (error) {\n",
              "        console.error('Error during call to suggestCharts:', error);\n",
              "      }\n",
              "      quickchartButtonEl.classList.remove('colab-df-spinner');\n",
              "      quickchartButtonEl.classList.add('colab-df-quickchart-complete');\n",
              "    }\n",
              "    (() => {\n",
              "      let quickchartButtonEl =\n",
              "        document.querySelector('#df-93157a59-3a77-47af-bf01-e5d4ffa52dcf button');\n",
              "      quickchartButtonEl.style.display =\n",
              "        google.colab.kernel.accessAllowed ? 'block' : 'none';\n",
              "    })();\n",
              "  </script>\n",
              "</div>\n",
              "\n",
              "    </div>\n",
              "  </div>\n"
            ]
          },
          "metadata": {},
          "execution_count": 53
        }
      ]
    },
    {
      "cell_type": "markdown",
      "source": [
        "\n",
        "13.64 minutes daily on the traveling page\n",
        "\n",
        "The majority of users have not taken a specific product\n",
        "\n",
        "The most frequent preferred location type is the \"Beach\"\n"
      ],
      "metadata": {
        "id": "sgey3Jd-Qd9d"
      }
    },
    {
      "cell_type": "markdown",
      "source": [
        "# **Exploratory Data Analysis**"
      ],
      "metadata": {
        "id": "AlK2Z00Qzh2_"
      }
    },
    {
      "cell_type": "code",
      "source": [
        "cat_columns= df.select_dtypes(exclude=['int64', 'float64'] )\n",
        "\n",
        "for col in cat_columns:\n",
        "    print(f\"Value counts for column '{col}':\")\n",
        "    print(df[col].unique())\n",
        "    print()"
      ],
      "metadata": {
        "colab": {
          "base_uri": "https://localhost:8080/"
        },
        "id": "wozNwibqM3As",
        "outputId": "3b41f4d4-aa9b-477b-9020-757534072910"
      },
      "execution_count": null,
      "outputs": [
        {
          "output_type": "stream",
          "name": "stdout",
          "text": [
            "Value counts for column 'Taken_product':\n",
            "['Yes' 'No']\n",
            "\n",
            "Value counts for column 'preferred_device':\n",
            "['iOS and Android' 'iOS' 'ANDROID' nan 'Android' 'Android OS' 'Other'\n",
            " 'Others' 'Tab' 'Laptop' 'Mobile']\n",
            "\n",
            "Value counts for column 'yearly_avg_Outstation_checkins':\n",
            "['1' '24' '23' '27' '16' '15' '26' '19' '21' '11' '10' '25' '12' '18' '29'\n",
            " nan '22' '14' '20' '28' '17' '13' '*' '5' '8' '2' '3' '9' '7' '6' '4']\n",
            "\n",
            "Value counts for column 'member_in_family':\n",
            "['2' '1' '4' 'Three' '3' '5' '10']\n",
            "\n",
            "Value counts for column 'preferred_location_type':\n",
            "['Financial' 'Other' 'Medical' nan 'Game' 'Social media' 'Entertainment'\n",
            " 'Tour and Travel' 'Movie' 'OTT' 'Tour  Travel' 'Beach' 'Historical site'\n",
            " 'Big Cities' 'Trekking' 'Hill Stations']\n",
            "\n",
            "Value counts for column 'following_company_page':\n",
            "['Yes' 'No' 'Yeso' nan '1' '0']\n",
            "\n",
            "Value counts for column 'working_flag':\n",
            "['No' 'Yes' '0']\n",
            "\n"
          ]
        }
      ]
    },
    {
      "cell_type": "markdown",
      "source": [
        "**Missing** **Values**"
      ],
      "metadata": {
        "id": "6yy9KDxYzxxB"
      }
    },
    {
      "cell_type": "code",
      "source": [
        "df.isnull().sum()"
      ],
      "metadata": {
        "colab": {
          "base_uri": "https://localhost:8080/"
        },
        "id": "51Z1LPB1Bx5z",
        "outputId": "72942e2b-5537-48bd-bba4-606e082fb867"
      },
      "execution_count": null,
      "outputs": [
        {
          "output_type": "execute_result",
          "data": {
            "text/plain": [
              "UserID                                            0\n",
              "Taken_product                                     0\n",
              "Yearly_avg_view_on_travel_page                  581\n",
              "preferred_device                                 53\n",
              "total_likes_on_outstation_checkin_given         381\n",
              "yearly_avg_Outstation_checkins                   75\n",
              "member_in_family                                  0\n",
              "preferred_location_type                          31\n",
              "Yearly_avg_comment_on_travel_page               206\n",
              "total_likes_on_outofstation_checkin_received      0\n",
              "week_since_last_outstation_checkin                0\n",
              "following_company_page                          103\n",
              "montly_avg_comment_on_company_page                0\n",
              "working_flag                                      0\n",
              "travelling_network_rating                         0\n",
              "Adult_flag                                        1\n",
              "Daily_Avg_mins_spend_on_traveling_page            1\n",
              "dtype: int64"
            ]
          },
          "metadata": {},
          "execution_count": 55
        }
      ]
    },
    {
      "cell_type": "code",
      "source": [
        "null_columns = ['preferred_device', 'preferred_location_type', 'following_company_page', 'working_flag', 'Adult_flag',\n",
        "               'Yearly_avg_view_on_travel_page', 'total_likes_on_outstation_checkin_given', 'yearly_avg_Outstation_checkins',\n",
        "               'Yearly_avg_comment_on_travel_page', 'Daily_Avg_mins_spend_on_traveling_page']\n",
        "for i in null_columns:\n",
        "    df[i].fillna(df[i].mode()[0], inplace = True)"
      ],
      "metadata": {
        "id": "oOVYfkJ6B2tY"
      },
      "execution_count": null,
      "outputs": []
    },
    {
      "cell_type": "code",
      "source": [
        "df.isnull().sum()"
      ],
      "metadata": {
        "colab": {
          "base_uri": "https://localhost:8080/"
        },
        "id": "_m8se_IxE-37",
        "outputId": "77c5669d-97c3-43fd-9344-f0ae7397ae74"
      },
      "execution_count": null,
      "outputs": [
        {
          "output_type": "execute_result",
          "data": {
            "text/plain": [
              "UserID                                          0\n",
              "Taken_product                                   0\n",
              "Yearly_avg_view_on_travel_page                  0\n",
              "preferred_device                                0\n",
              "total_likes_on_outstation_checkin_given         0\n",
              "yearly_avg_Outstation_checkins                  0\n",
              "member_in_family                                0\n",
              "preferred_location_type                         0\n",
              "Yearly_avg_comment_on_travel_page               0\n",
              "total_likes_on_outofstation_checkin_received    0\n",
              "week_since_last_outstation_checkin              0\n",
              "following_company_page                          0\n",
              "montly_avg_comment_on_company_page              0\n",
              "working_flag                                    0\n",
              "travelling_network_rating                       0\n",
              "Adult_flag                                      0\n",
              "Daily_Avg_mins_spend_on_traveling_page          0\n",
              "dtype: int64"
            ]
          },
          "metadata": {},
          "execution_count": 57
        }
      ]
    },
    {
      "cell_type": "markdown",
      "source": [
        "**Duplicate Values**"
      ],
      "metadata": {
        "id": "_J9EcTL6z-zM"
      }
    },
    {
      "cell_type": "code",
      "source": [
        "df.duplicated().sum()"
      ],
      "metadata": {
        "colab": {
          "base_uri": "https://localhost:8080/"
        },
        "id": "hplBW1XYFAs3",
        "outputId": "00ff0f56-9dcf-4d67-ff16-6027c033aa3b"
      },
      "execution_count": null,
      "outputs": [
        {
          "output_type": "execute_result",
          "data": {
            "text/plain": [
              "0"
            ]
          },
          "metadata": {},
          "execution_count": 58
        }
      ]
    },
    {
      "cell_type": "code",
      "source": [
        "df.travelling_network_rating.value_counts()"
      ],
      "metadata": {
        "colab": {
          "base_uri": "https://localhost:8080/"
        },
        "id": "4MFpXGODVpbQ",
        "outputId": "0f3427d4-cf08-4289-b2a6-3a1d01e10bf3"
      },
      "execution_count": null,
      "outputs": [
        {
          "output_type": "execute_result",
          "data": {
            "text/plain": [
              "3     3672\n",
              "4     3455\n",
              "2     2424\n",
              "1     2208\n",
              "10       1\n",
              "Name: travelling_network_rating, dtype: int64"
            ]
          },
          "metadata": {},
          "execution_count": 11
        }
      ]
    },
    {
      "cell_type": "code",
      "source": [
        "df= df[df['travelling_network_rating'] != 10]"
      ],
      "metadata": {
        "id": "woyqspOJZUm8"
      },
      "execution_count": null,
      "outputs": []
    },
    {
      "cell_type": "code",
      "source": [
        "correlation = df.corr()\n",
        "correlation"
      ],
      "metadata": {
        "colab": {
          "base_uri": "https://localhost:8080/",
          "height": 419
        },
        "id": "-A6oOsr_KFFb",
        "outputId": "f7003623-b0e3-445d-f918-495fcdaf6c2d"
      },
      "execution_count": null,
      "outputs": [
        {
          "output_type": "stream",
          "name": "stderr",
          "text": [
            "<ipython-input-60-b6c2249924d6>:1: FutureWarning: The default value of numeric_only in DataFrame.corr is deprecated. In a future version, it will default to False. Select only valid columns or specify the value of numeric_only to silence this warning.\n",
            "  correlation = df.corr()\n"
          ]
        },
        {
          "output_type": "execute_result",
          "data": {
            "text/plain": [
              "                                                UserID  \\\n",
              "UserID                                        1.000000   \n",
              "Yearly_avg_view_on_travel_page                0.090417   \n",
              "total_likes_on_outstation_checkin_given      -0.003761   \n",
              "Yearly_avg_comment_on_travel_page             0.209804   \n",
              "total_likes_on_outofstation_checkin_received  0.001127   \n",
              "week_since_last_outstation_checkin            0.084855   \n",
              "montly_avg_comment_on_company_page            0.046817   \n",
              "travelling_network_rating                    -0.008533   \n",
              "Adult_flag                                    0.007671   \n",
              "Daily_Avg_mins_spend_on_traveling_page        0.115214   \n",
              "\n",
              "                                              Yearly_avg_view_on_travel_page  \\\n",
              "UserID                                                              0.090417   \n",
              "Yearly_avg_view_on_travel_page                                      1.000000   \n",
              "total_likes_on_outstation_checkin_given                             0.011175   \n",
              "Yearly_avg_comment_on_travel_page                                   0.040854   \n",
              "total_likes_on_outofstation_checkin_received                        0.483969   \n",
              "week_since_last_outstation_checkin                                  0.278208   \n",
              "montly_avg_comment_on_company_page                                 -0.009402   \n",
              "travelling_network_rating                                           0.056467   \n",
              "Adult_flag                                                          0.036664   \n",
              "Daily_Avg_mins_spend_on_traveling_page                              0.578813   \n",
              "\n",
              "                                              total_likes_on_outstation_checkin_given  \\\n",
              "UserID                                                                      -0.003761   \n",
              "Yearly_avg_view_on_travel_page                                               0.011175   \n",
              "total_likes_on_outstation_checkin_given                                      1.000000   \n",
              "Yearly_avg_comment_on_travel_page                                            0.014960   \n",
              "total_likes_on_outofstation_checkin_received                                 0.012571   \n",
              "week_since_last_outstation_checkin                                           0.035157   \n",
              "montly_avg_comment_on_company_page                                           0.012863   \n",
              "travelling_network_rating                                                    0.011019   \n",
              "Adult_flag                                                                   0.039775   \n",
              "Daily_Avg_mins_spend_on_traveling_page                                       0.009584   \n",
              "\n",
              "                                              Yearly_avg_comment_on_travel_page  \\\n",
              "UserID                                                                 0.209804   \n",
              "Yearly_avg_view_on_travel_page                                         0.040854   \n",
              "total_likes_on_outstation_checkin_given                                0.014960   \n",
              "Yearly_avg_comment_on_travel_page                                      1.000000   \n",
              "total_likes_on_outofstation_checkin_received                          -0.013035   \n",
              "week_since_last_outstation_checkin                                     0.058165   \n",
              "montly_avg_comment_on_company_page                                     0.018203   \n",
              "travelling_network_rating                                              0.008553   \n",
              "Adult_flag                                                             0.042644   \n",
              "Daily_Avg_mins_spend_on_traveling_page                                 0.058309   \n",
              "\n",
              "                                              total_likes_on_outofstation_checkin_received  \\\n",
              "UserID                                                                            0.001127   \n",
              "Yearly_avg_view_on_travel_page                                                    0.483969   \n",
              "total_likes_on_outstation_checkin_given                                           0.012571   \n",
              "Yearly_avg_comment_on_travel_page                                                -0.013035   \n",
              "total_likes_on_outofstation_checkin_received                                      1.000000   \n",
              "week_since_last_outstation_checkin                                                0.144017   \n",
              "montly_avg_comment_on_company_page                                               -0.005151   \n",
              "travelling_network_rating                                                         0.025910   \n",
              "Adult_flag                                                                        0.005379   \n",
              "Daily_Avg_mins_spend_on_traveling_page                                            0.673404   \n",
              "\n",
              "                                              week_since_last_outstation_checkin  \\\n",
              "UserID                                                                  0.084855   \n",
              "Yearly_avg_view_on_travel_page                                          0.278208   \n",
              "total_likes_on_outstation_checkin_given                                 0.035157   \n",
              "Yearly_avg_comment_on_travel_page                                       0.058165   \n",
              "total_likes_on_outofstation_checkin_received                            0.144017   \n",
              "week_since_last_outstation_checkin                                      1.000000   \n",
              "montly_avg_comment_on_company_page                                      0.031901   \n",
              "travelling_network_rating                                               0.051158   \n",
              "Adult_flag                                                              0.026061   \n",
              "Daily_Avg_mins_spend_on_traveling_page                                  0.249750   \n",
              "\n",
              "                                              montly_avg_comment_on_company_page  \\\n",
              "UserID                                                                  0.046817   \n",
              "Yearly_avg_view_on_travel_page                                         -0.009402   \n",
              "total_likes_on_outstation_checkin_given                                 0.012863   \n",
              "Yearly_avg_comment_on_travel_page                                       0.018203   \n",
              "total_likes_on_outofstation_checkin_received                           -0.005151   \n",
              "week_since_last_outstation_checkin                                      0.031901   \n",
              "montly_avg_comment_on_company_page                                      1.000000   \n",
              "travelling_network_rating                                              -0.020504   \n",
              "Adult_flag                                                             -0.011766   \n",
              "Daily_Avg_mins_spend_on_traveling_page                                  0.054297   \n",
              "\n",
              "                                              travelling_network_rating  \\\n",
              "UserID                                                        -0.008533   \n",
              "Yearly_avg_view_on_travel_page                                 0.056467   \n",
              "total_likes_on_outstation_checkin_given                        0.011019   \n",
              "Yearly_avg_comment_on_travel_page                              0.008553   \n",
              "total_likes_on_outofstation_checkin_received                   0.025910   \n",
              "week_since_last_outstation_checkin                             0.051158   \n",
              "montly_avg_comment_on_company_page                            -0.020504   \n",
              "travelling_network_rating                                      1.000000   \n",
              "Adult_flag                                                    -0.045863   \n",
              "Daily_Avg_mins_spend_on_traveling_page                         0.019701   \n",
              "\n",
              "                                              Adult_flag  \\\n",
              "UserID                                          0.007671   \n",
              "Yearly_avg_view_on_travel_page                  0.036664   \n",
              "total_likes_on_outstation_checkin_given         0.039775   \n",
              "Yearly_avg_comment_on_travel_page               0.042644   \n",
              "total_likes_on_outofstation_checkin_received    0.005379   \n",
              "week_since_last_outstation_checkin              0.026061   \n",
              "montly_avg_comment_on_company_page             -0.011766   \n",
              "travelling_network_rating                      -0.045863   \n",
              "Adult_flag                                      1.000000   \n",
              "Daily_Avg_mins_spend_on_traveling_page          0.007742   \n",
              "\n",
              "                                              Daily_Avg_mins_spend_on_traveling_page  \n",
              "UserID                                                                      0.115214  \n",
              "Yearly_avg_view_on_travel_page                                              0.578813  \n",
              "total_likes_on_outstation_checkin_given                                     0.009584  \n",
              "Yearly_avg_comment_on_travel_page                                           0.058309  \n",
              "total_likes_on_outofstation_checkin_received                                0.673404  \n",
              "week_since_last_outstation_checkin                                          0.249750  \n",
              "montly_avg_comment_on_company_page                                          0.054297  \n",
              "travelling_network_rating                                                   0.019701  \n",
              "Adult_flag                                                                  0.007742  \n",
              "Daily_Avg_mins_spend_on_traveling_page                                      1.000000  "
            ],
            "text/html": [
              "\n",
              "  <div id=\"df-7fbd16b9-e55c-44a0-95e2-886b8a4d50cf\" class=\"colab-df-container\">\n",
              "    <div>\n",
              "<style scoped>\n",
              "    .dataframe tbody tr th:only-of-type {\n",
              "        vertical-align: middle;\n",
              "    }\n",
              "\n",
              "    .dataframe tbody tr th {\n",
              "        vertical-align: top;\n",
              "    }\n",
              "\n",
              "    .dataframe thead th {\n",
              "        text-align: right;\n",
              "    }\n",
              "</style>\n",
              "<table border=\"1\" class=\"dataframe\">\n",
              "  <thead>\n",
              "    <tr style=\"text-align: right;\">\n",
              "      <th></th>\n",
              "      <th>UserID</th>\n",
              "      <th>Yearly_avg_view_on_travel_page</th>\n",
              "      <th>total_likes_on_outstation_checkin_given</th>\n",
              "      <th>Yearly_avg_comment_on_travel_page</th>\n",
              "      <th>total_likes_on_outofstation_checkin_received</th>\n",
              "      <th>week_since_last_outstation_checkin</th>\n",
              "      <th>montly_avg_comment_on_company_page</th>\n",
              "      <th>travelling_network_rating</th>\n",
              "      <th>Adult_flag</th>\n",
              "      <th>Daily_Avg_mins_spend_on_traveling_page</th>\n",
              "    </tr>\n",
              "  </thead>\n",
              "  <tbody>\n",
              "    <tr>\n",
              "      <th>UserID</th>\n",
              "      <td>1.000000</td>\n",
              "      <td>0.090417</td>\n",
              "      <td>-0.003761</td>\n",
              "      <td>0.209804</td>\n",
              "      <td>0.001127</td>\n",
              "      <td>0.084855</td>\n",
              "      <td>0.046817</td>\n",
              "      <td>-0.008533</td>\n",
              "      <td>0.007671</td>\n",
              "      <td>0.115214</td>\n",
              "    </tr>\n",
              "    <tr>\n",
              "      <th>Yearly_avg_view_on_travel_page</th>\n",
              "      <td>0.090417</td>\n",
              "      <td>1.000000</td>\n",
              "      <td>0.011175</td>\n",
              "      <td>0.040854</td>\n",
              "      <td>0.483969</td>\n",
              "      <td>0.278208</td>\n",
              "      <td>-0.009402</td>\n",
              "      <td>0.056467</td>\n",
              "      <td>0.036664</td>\n",
              "      <td>0.578813</td>\n",
              "    </tr>\n",
              "    <tr>\n",
              "      <th>total_likes_on_outstation_checkin_given</th>\n",
              "      <td>-0.003761</td>\n",
              "      <td>0.011175</td>\n",
              "      <td>1.000000</td>\n",
              "      <td>0.014960</td>\n",
              "      <td>0.012571</td>\n",
              "      <td>0.035157</td>\n",
              "      <td>0.012863</td>\n",
              "      <td>0.011019</td>\n",
              "      <td>0.039775</td>\n",
              "      <td>0.009584</td>\n",
              "    </tr>\n",
              "    <tr>\n",
              "      <th>Yearly_avg_comment_on_travel_page</th>\n",
              "      <td>0.209804</td>\n",
              "      <td>0.040854</td>\n",
              "      <td>0.014960</td>\n",
              "      <td>1.000000</td>\n",
              "      <td>-0.013035</td>\n",
              "      <td>0.058165</td>\n",
              "      <td>0.018203</td>\n",
              "      <td>0.008553</td>\n",
              "      <td>0.042644</td>\n",
              "      <td>0.058309</td>\n",
              "    </tr>\n",
              "    <tr>\n",
              "      <th>total_likes_on_outofstation_checkin_received</th>\n",
              "      <td>0.001127</td>\n",
              "      <td>0.483969</td>\n",
              "      <td>0.012571</td>\n",
              "      <td>-0.013035</td>\n",
              "      <td>1.000000</td>\n",
              "      <td>0.144017</td>\n",
              "      <td>-0.005151</td>\n",
              "      <td>0.025910</td>\n",
              "      <td>0.005379</td>\n",
              "      <td>0.673404</td>\n",
              "    </tr>\n",
              "    <tr>\n",
              "      <th>week_since_last_outstation_checkin</th>\n",
              "      <td>0.084855</td>\n",
              "      <td>0.278208</td>\n",
              "      <td>0.035157</td>\n",
              "      <td>0.058165</td>\n",
              "      <td>0.144017</td>\n",
              "      <td>1.000000</td>\n",
              "      <td>0.031901</td>\n",
              "      <td>0.051158</td>\n",
              "      <td>0.026061</td>\n",
              "      <td>0.249750</td>\n",
              "    </tr>\n",
              "    <tr>\n",
              "      <th>montly_avg_comment_on_company_page</th>\n",
              "      <td>0.046817</td>\n",
              "      <td>-0.009402</td>\n",
              "      <td>0.012863</td>\n",
              "      <td>0.018203</td>\n",
              "      <td>-0.005151</td>\n",
              "      <td>0.031901</td>\n",
              "      <td>1.000000</td>\n",
              "      <td>-0.020504</td>\n",
              "      <td>-0.011766</td>\n",
              "      <td>0.054297</td>\n",
              "    </tr>\n",
              "    <tr>\n",
              "      <th>travelling_network_rating</th>\n",
              "      <td>-0.008533</td>\n",
              "      <td>0.056467</td>\n",
              "      <td>0.011019</td>\n",
              "      <td>0.008553</td>\n",
              "      <td>0.025910</td>\n",
              "      <td>0.051158</td>\n",
              "      <td>-0.020504</td>\n",
              "      <td>1.000000</td>\n",
              "      <td>-0.045863</td>\n",
              "      <td>0.019701</td>\n",
              "    </tr>\n",
              "    <tr>\n",
              "      <th>Adult_flag</th>\n",
              "      <td>0.007671</td>\n",
              "      <td>0.036664</td>\n",
              "      <td>0.039775</td>\n",
              "      <td>0.042644</td>\n",
              "      <td>0.005379</td>\n",
              "      <td>0.026061</td>\n",
              "      <td>-0.011766</td>\n",
              "      <td>-0.045863</td>\n",
              "      <td>1.000000</td>\n",
              "      <td>0.007742</td>\n",
              "    </tr>\n",
              "    <tr>\n",
              "      <th>Daily_Avg_mins_spend_on_traveling_page</th>\n",
              "      <td>0.115214</td>\n",
              "      <td>0.578813</td>\n",
              "      <td>0.009584</td>\n",
              "      <td>0.058309</td>\n",
              "      <td>0.673404</td>\n",
              "      <td>0.249750</td>\n",
              "      <td>0.054297</td>\n",
              "      <td>0.019701</td>\n",
              "      <td>0.007742</td>\n",
              "      <td>1.000000</td>\n",
              "    </tr>\n",
              "  </tbody>\n",
              "</table>\n",
              "</div>\n",
              "    <div class=\"colab-df-buttons\">\n",
              "\n",
              "  <div class=\"colab-df-container\">\n",
              "    <button class=\"colab-df-convert\" onclick=\"convertToInteractive('df-7fbd16b9-e55c-44a0-95e2-886b8a4d50cf')\"\n",
              "            title=\"Convert this dataframe to an interactive table.\"\n",
              "            style=\"display:none;\">\n",
              "\n",
              "  <svg xmlns=\"http://www.w3.org/2000/svg\" height=\"24px\" viewBox=\"0 -960 960 960\">\n",
              "    <path d=\"M120-120v-720h720v720H120Zm60-500h600v-160H180v160Zm220 220h160v-160H400v160Zm0 220h160v-160H400v160ZM180-400h160v-160H180v160Zm440 0h160v-160H620v160ZM180-180h160v-160H180v160Zm440 0h160v-160H620v160Z\"/>\n",
              "  </svg>\n",
              "    </button>\n",
              "\n",
              "  <style>\n",
              "    .colab-df-container {\n",
              "      display:flex;\n",
              "      gap: 12px;\n",
              "    }\n",
              "\n",
              "    .colab-df-convert {\n",
              "      background-color: #E8F0FE;\n",
              "      border: none;\n",
              "      border-radius: 50%;\n",
              "      cursor: pointer;\n",
              "      display: none;\n",
              "      fill: #1967D2;\n",
              "      height: 32px;\n",
              "      padding: 0 0 0 0;\n",
              "      width: 32px;\n",
              "    }\n",
              "\n",
              "    .colab-df-convert:hover {\n",
              "      background-color: #E2EBFA;\n",
              "      box-shadow: 0px 1px 2px rgba(60, 64, 67, 0.3), 0px 1px 3px 1px rgba(60, 64, 67, 0.15);\n",
              "      fill: #174EA6;\n",
              "    }\n",
              "\n",
              "    .colab-df-buttons div {\n",
              "      margin-bottom: 4px;\n",
              "    }\n",
              "\n",
              "    [theme=dark] .colab-df-convert {\n",
              "      background-color: #3B4455;\n",
              "      fill: #D2E3FC;\n",
              "    }\n",
              "\n",
              "    [theme=dark] .colab-df-convert:hover {\n",
              "      background-color: #434B5C;\n",
              "      box-shadow: 0px 1px 3px 1px rgba(0, 0, 0, 0.15);\n",
              "      filter: drop-shadow(0px 1px 2px rgba(0, 0, 0, 0.3));\n",
              "      fill: #FFFFFF;\n",
              "    }\n",
              "  </style>\n",
              "\n",
              "    <script>\n",
              "      const buttonEl =\n",
              "        document.querySelector('#df-7fbd16b9-e55c-44a0-95e2-886b8a4d50cf button.colab-df-convert');\n",
              "      buttonEl.style.display =\n",
              "        google.colab.kernel.accessAllowed ? 'block' : 'none';\n",
              "\n",
              "      async function convertToInteractive(key) {\n",
              "        const element = document.querySelector('#df-7fbd16b9-e55c-44a0-95e2-886b8a4d50cf');\n",
              "        const dataTable =\n",
              "          await google.colab.kernel.invokeFunction('convertToInteractive',\n",
              "                                                    [key], {});\n",
              "        if (!dataTable) return;\n",
              "\n",
              "        const docLinkHtml = 'Like what you see? Visit the ' +\n",
              "          '<a target=\"_blank\" href=https://colab.research.google.com/notebooks/data_table.ipynb>data table notebook</a>'\n",
              "          + ' to learn more about interactive tables.';\n",
              "        element.innerHTML = '';\n",
              "        dataTable['output_type'] = 'display_data';\n",
              "        await google.colab.output.renderOutput(dataTable, element);\n",
              "        const docLink = document.createElement('div');\n",
              "        docLink.innerHTML = docLinkHtml;\n",
              "        element.appendChild(docLink);\n",
              "      }\n",
              "    </script>\n",
              "  </div>\n",
              "\n",
              "\n",
              "<div id=\"df-463d630e-0a23-46ef-be5d-1ee4262eb7e7\">\n",
              "  <button class=\"colab-df-quickchart\" onclick=\"quickchart('df-463d630e-0a23-46ef-be5d-1ee4262eb7e7')\"\n",
              "            title=\"Suggest charts\"\n",
              "            style=\"display:none;\">\n",
              "\n",
              "<svg xmlns=\"http://www.w3.org/2000/svg\" height=\"24px\"viewBox=\"0 0 24 24\"\n",
              "     width=\"24px\">\n",
              "    <g>\n",
              "        <path d=\"M19 3H5c-1.1 0-2 .9-2 2v14c0 1.1.9 2 2 2h14c1.1 0 2-.9 2-2V5c0-1.1-.9-2-2-2zM9 17H7v-7h2v7zm4 0h-2V7h2v10zm4 0h-2v-4h2v4z\"/>\n",
              "    </g>\n",
              "</svg>\n",
              "  </button>\n",
              "\n",
              "<style>\n",
              "  .colab-df-quickchart {\n",
              "      --bg-color: #E8F0FE;\n",
              "      --fill-color: #1967D2;\n",
              "      --hover-bg-color: #E2EBFA;\n",
              "      --hover-fill-color: #174EA6;\n",
              "      --disabled-fill-color: #AAA;\n",
              "      --disabled-bg-color: #DDD;\n",
              "  }\n",
              "\n",
              "  [theme=dark] .colab-df-quickchart {\n",
              "      --bg-color: #3B4455;\n",
              "      --fill-color: #D2E3FC;\n",
              "      --hover-bg-color: #434B5C;\n",
              "      --hover-fill-color: #FFFFFF;\n",
              "      --disabled-bg-color: #3B4455;\n",
              "      --disabled-fill-color: #666;\n",
              "  }\n",
              "\n",
              "  .colab-df-quickchart {\n",
              "    background-color: var(--bg-color);\n",
              "    border: none;\n",
              "    border-radius: 50%;\n",
              "    cursor: pointer;\n",
              "    display: none;\n",
              "    fill: var(--fill-color);\n",
              "    height: 32px;\n",
              "    padding: 0;\n",
              "    width: 32px;\n",
              "  }\n",
              "\n",
              "  .colab-df-quickchart:hover {\n",
              "    background-color: var(--hover-bg-color);\n",
              "    box-shadow: 0 1px 2px rgba(60, 64, 67, 0.3), 0 1px 3px 1px rgba(60, 64, 67, 0.15);\n",
              "    fill: var(--button-hover-fill-color);\n",
              "  }\n",
              "\n",
              "  .colab-df-quickchart-complete:disabled,\n",
              "  .colab-df-quickchart-complete:disabled:hover {\n",
              "    background-color: var(--disabled-bg-color);\n",
              "    fill: var(--disabled-fill-color);\n",
              "    box-shadow: none;\n",
              "  }\n",
              "\n",
              "  .colab-df-spinner {\n",
              "    border: 2px solid var(--fill-color);\n",
              "    border-color: transparent;\n",
              "    border-bottom-color: var(--fill-color);\n",
              "    animation:\n",
              "      spin 1s steps(1) infinite;\n",
              "  }\n",
              "\n",
              "  @keyframes spin {\n",
              "    0% {\n",
              "      border-color: transparent;\n",
              "      border-bottom-color: var(--fill-color);\n",
              "      border-left-color: var(--fill-color);\n",
              "    }\n",
              "    20% {\n",
              "      border-color: transparent;\n",
              "      border-left-color: var(--fill-color);\n",
              "      border-top-color: var(--fill-color);\n",
              "    }\n",
              "    30% {\n",
              "      border-color: transparent;\n",
              "      border-left-color: var(--fill-color);\n",
              "      border-top-color: var(--fill-color);\n",
              "      border-right-color: var(--fill-color);\n",
              "    }\n",
              "    40% {\n",
              "      border-color: transparent;\n",
              "      border-right-color: var(--fill-color);\n",
              "      border-top-color: var(--fill-color);\n",
              "    }\n",
              "    60% {\n",
              "      border-color: transparent;\n",
              "      border-right-color: var(--fill-color);\n",
              "    }\n",
              "    80% {\n",
              "      border-color: transparent;\n",
              "      border-right-color: var(--fill-color);\n",
              "      border-bottom-color: var(--fill-color);\n",
              "    }\n",
              "    90% {\n",
              "      border-color: transparent;\n",
              "      border-bottom-color: var(--fill-color);\n",
              "    }\n",
              "  }\n",
              "</style>\n",
              "\n",
              "  <script>\n",
              "    async function quickchart(key) {\n",
              "      const quickchartButtonEl =\n",
              "        document.querySelector('#' + key + ' button');\n",
              "      quickchartButtonEl.disabled = true;  // To prevent multiple clicks.\n",
              "      quickchartButtonEl.classList.add('colab-df-spinner');\n",
              "      try {\n",
              "        const charts = await google.colab.kernel.invokeFunction(\n",
              "            'suggestCharts', [key], {});\n",
              "      } catch (error) {\n",
              "        console.error('Error during call to suggestCharts:', error);\n",
              "      }\n",
              "      quickchartButtonEl.classList.remove('colab-df-spinner');\n",
              "      quickchartButtonEl.classList.add('colab-df-quickchart-complete');\n",
              "    }\n",
              "    (() => {\n",
              "      let quickchartButtonEl =\n",
              "        document.querySelector('#df-463d630e-0a23-46ef-be5d-1ee4262eb7e7 button');\n",
              "      quickchartButtonEl.style.display =\n",
              "        google.colab.kernel.accessAllowed ? 'block' : 'none';\n",
              "    })();\n",
              "  </script>\n",
              "</div>\n",
              "\n",
              "  <div id=\"id_46fe6714-b12d-45c3-804b-7e1f7df40262\">\n",
              "    <style>\n",
              "      .colab-df-generate {\n",
              "        background-color: #E8F0FE;\n",
              "        border: none;\n",
              "        border-radius: 50%;\n",
              "        cursor: pointer;\n",
              "        display: none;\n",
              "        fill: #1967D2;\n",
              "        height: 32px;\n",
              "        padding: 0 0 0 0;\n",
              "        width: 32px;\n",
              "      }\n",
              "\n",
              "      .colab-df-generate:hover {\n",
              "        background-color: #E2EBFA;\n",
              "        box-shadow: 0px 1px 2px rgba(60, 64, 67, 0.3), 0px 1px 3px 1px rgba(60, 64, 67, 0.15);\n",
              "        fill: #174EA6;\n",
              "      }\n",
              "\n",
              "      [theme=dark] .colab-df-generate {\n",
              "        background-color: #3B4455;\n",
              "        fill: #D2E3FC;\n",
              "      }\n",
              "\n",
              "      [theme=dark] .colab-df-generate:hover {\n",
              "        background-color: #434B5C;\n",
              "        box-shadow: 0px 1px 3px 1px rgba(0, 0, 0, 0.15);\n",
              "        filter: drop-shadow(0px 1px 2px rgba(0, 0, 0, 0.3));\n",
              "        fill: #FFFFFF;\n",
              "      }\n",
              "    </style>\n",
              "    <button class=\"colab-df-generate\" onclick=\"generateWithVariable('correlation')\"\n",
              "            title=\"Generate code using this dataframe.\"\n",
              "            style=\"display:none;\">\n",
              "\n",
              "  <svg xmlns=\"http://www.w3.org/2000/svg\" height=\"24px\"viewBox=\"0 0 24 24\"\n",
              "       width=\"24px\">\n",
              "    <path d=\"M7,19H8.4L18.45,9,17,7.55,7,17.6ZM5,21V16.75L18.45,3.32a2,2,0,0,1,2.83,0l1.4,1.43a1.91,1.91,0,0,1,.58,1.4,1.91,1.91,0,0,1-.58,1.4L9.25,21ZM18.45,9,17,7.55Zm-12,3A5.31,5.31,0,0,0,4.9,8.1,5.31,5.31,0,0,0,1,6.5,5.31,5.31,0,0,0,4.9,4.9,5.31,5.31,0,0,0,6.5,1,5.31,5.31,0,0,0,8.1,4.9,5.31,5.31,0,0,0,12,6.5,5.46,5.46,0,0,0,6.5,12Z\"/>\n",
              "  </svg>\n",
              "    </button>\n",
              "    <script>\n",
              "      (() => {\n",
              "      const buttonEl =\n",
              "        document.querySelector('#id_46fe6714-b12d-45c3-804b-7e1f7df40262 button.colab-df-generate');\n",
              "      buttonEl.style.display =\n",
              "        google.colab.kernel.accessAllowed ? 'block' : 'none';\n",
              "\n",
              "      buttonEl.onclick = () => {\n",
              "        google.colab.notebook.generateWithVariable('correlation');\n",
              "      }\n",
              "      })();\n",
              "    </script>\n",
              "  </div>\n",
              "\n",
              "    </div>\n",
              "  </div>\n"
            ]
          },
          "metadata": {},
          "execution_count": 60
        }
      ]
    },
    {
      "cell_type": "code",
      "source": [
        "import matplotlib.pyplot as plt\n",
        "import seaborn as sns\n",
        "\n",
        "plt.figure(figsize=(14,8))\n",
        "sns.heatmap(correlation,annot=True)"
      ],
      "metadata": {
        "colab": {
          "base_uri": "https://localhost:8080/",
          "height": 848
        },
        "id": "T0uLGLg4KcPo",
        "outputId": "771145d8-190e-4a2b-84f9-75f5b7a00437"
      },
      "execution_count": null,
      "outputs": [
        {
          "output_type": "execute_result",
          "data": {
            "text/plain": [
              "<Axes: >"
            ]
          },
          "metadata": {},
          "execution_count": 61
        },
        {
          "output_type": "display_data",
          "data": {
            "text/plain": [
              "<Figure size 1400x800 with 2 Axes>"
            ],
            "image/png": "[encoded data removed]"
          },
          "metadata": {}
        }
      ]
    },
    {
      "cell_type": "markdown",
      "source": [
        "***Data Visualization***"
      ],
      "metadata": {
        "id": "K_f61vFDNZqe"
      }
    },
    {
      "cell_type": "code",
      "source": [
        "sns.countplot(data = df, x = \"Taken_product\")"
      ],
      "metadata": {
        "colab": {
          "base_uri": "https://localhost:8080/",
          "height": 468
        },
        "id": "-kiEod0TYEVr",
        "outputId": "a49e03d9-404b-4d84-86a0-5d424f8a2c0a"
      },
      "execution_count": null,
      "outputs": [
        {
          "output_type": "execute_result",
          "data": {
            "text/plain": [
              "<Axes: xlabel='Taken_product', ylabel='count'>"
            ]
          },
          "metadata": {},
          "execution_count": 62
        },
        {
          "output_type": "display_data",
          "data": {
            "text/plain": [
              "<Figure size 640x480 with 1 Axes>"
            ],
            "image/png": "[encoded data removed]"
          },
          "metadata": {}
        }
      ]
    },
    {
      "cell_type": "code",
      "source": [
        "df.Taken_product.value_counts()"
      ],
      "metadata": {
        "colab": {
          "base_uri": "https://localhost:8080/"
        },
        "id": "uHGHJdCtPQiO",
        "outputId": "6d0dbd4f-c8d4-4808-ab87-43accf30de08"
      },
      "execution_count": null,
      "outputs": [
        {
          "output_type": "execute_result",
          "data": {
            "text/plain": [
              "No     9863\n",
              "Yes    1896\n",
              "Name: Taken_product, dtype: int64"
            ]
          },
          "metadata": {},
          "execution_count": 63
        }
      ]
    },
    {
      "cell_type": "code",
      "source": [
        "sns.countplot(data = df, x = \"travelling_network_rating\")"
      ],
      "metadata": {
        "colab": {
          "base_uri": "https://localhost:8080/",
          "height": 468
        },
        "id": "yZq1fZJ_bq2U",
        "outputId": "efc0facb-d237-447e-bc69-3bfab0dec3f0"
      },
      "execution_count": null,
      "outputs": [
        {
          "output_type": "execute_result",
          "data": {
            "text/plain": [
              "<Axes: xlabel='travelling_network_rating', ylabel='count'>"
            ]
          },
          "metadata": {},
          "execution_count": 64
        },
        {
          "output_type": "display_data",
          "data": {
            "text/plain": [
              "<Figure size 640x480 with 1 Axes>"
            ],
            "image/png": "[encoded data removed]"
          },
          "metadata": {}
        }
      ]
    },
    {
      "cell_type": "code",
      "source": [
        "a= df[\"preferred_device\"].value_counts()"
      ],
      "metadata": {
        "id": "eBKoapraf3mW"
      },
      "execution_count": null,
      "outputs": []
    },
    {
      "cell_type": "code",
      "source": [
        "plt.pie(a, labels=a.index, autopct=\"%0.2f%%\")\n",
        "plt.title(\"Preferred Device\")\n",
        "plt.show()"
      ],
      "metadata": {
        "colab": {
          "base_uri": "https://localhost:8080/",
          "height": 428
        },
        "id": "eGQIhXW6cdRj",
        "outputId": "df9dbba7-efa2-4c4f-e2c5-75f78df4c767"
      },
      "execution_count": null,
      "outputs": [
        {
          "output_type": "display_data",
          "data": {
            "text/plain": [
              "<Figure size 640x480 with 1 Axes>"
            ],
            "image/png": "[encoded data removed]"
          },
          "metadata": {}
        }
      ]
    },
    {
      "cell_type": "code",
      "source": [
        "sns.countplot(data = df, x = \"Taken_product\",hue =\"travelling_network_rating\" )"
      ],
      "metadata": {
        "colab": {
          "base_uri": "https://localhost:8080/",
          "height": 468
        },
        "id": "74YB6eM_PhSu",
        "outputId": "c4359df5-2aa2-4e97-db1d-2f987ebc6364"
      },
      "execution_count": null,
      "outputs": [
        {
          "output_type": "execute_result",
          "data": {
            "text/plain": [
              "<Axes: xlabel='Taken_product', ylabel='count'>"
            ]
          },
          "metadata": {},
          "execution_count": 74
        },
        {
          "output_type": "display_data",
          "data": {
            "text/plain": [
              "<Figure size 640x480 with 1 Axes>"
            ],
            "image/png": "[encoded data removed]"
          },
          "metadata": {}
        }
      ]
    },
    {
      "cell_type": "code",
      "source": [
        "from sklearn.preprocessing import LabelEncoder\n",
        "encoder = LabelEncoder()\n",
        "for i in df .columns:\n",
        "  df[i] = encoder.fit_transform(df[i])"
      ],
      "metadata": {
        "id": "emccQLM9FgFS",
        "colab": {
          "base_uri": "https://localhost:8080/",
          "height": 245
        },
        "outputId": "ea8ffced-912c-42c5-b7e5-b8db18162630"
      },
      "execution_count": null,
      "outputs": [
        {
          "output_type": "error",
          "ename": "NameError",
          "evalue": "ignored",
          "traceback": [
            "\u001b[0;31m---------------------------------------------------------------------------\u001b[0m",
            "\u001b[0;31mNameError\u001b[0m                                 Traceback (most recent call last)",
            "\u001b[0;32m<ipython-input-1-9ee44b27fa11>\u001b[0m in \u001b[0;36m<cell line: 2>\u001b[0;34m()\u001b[0m\n\u001b[1;32m      1\u001b[0m \u001b[0;32mfrom\u001b[0m \u001b[0msklearn\u001b[0m \u001b[0;32mimport\u001b[0m \u001b[0mpreprocessing\u001b[0m\u001b[0;34m\u001b[0m\u001b[0;34m\u001b[0m\u001b[0m\n\u001b[0;32m----> 2\u001b[0;31m \u001b[0mnew_df\u001b[0m \u001b[0;34m=\u001b[0m \u001b[0mpd\u001b[0m\u001b[0;34m.\u001b[0m\u001b[0mDataFrame\u001b[0m\u001b[0;34m(\u001b[0m\u001b[0mdata\u001b[0m\u001b[0;34m)\u001b[0m\u001b[0;34m\u001b[0m\u001b[0;34m\u001b[0m\u001b[0m\n\u001b[0m\u001b[1;32m      3\u001b[0m \u001b[0mlabel_encoder\u001b[0m \u001b[0;34m=\u001b[0m \u001b[0mpreprocessing\u001b[0m\u001b[0;34m.\u001b[0m\u001b[0mLabelEncoder\u001b[0m\u001b[0;34m(\u001b[0m\u001b[0;34m)\u001b[0m\u001b[0;34m\u001b[0m\u001b[0;34m\u001b[0m\u001b[0m\n\u001b[1;32m      4\u001b[0m \u001b[0;32mfor\u001b[0m \u001b[0mcolumn\u001b[0m \u001b[0;32min\u001b[0m \u001b[0mdata\u001b[0m\u001b[0;34m.\u001b[0m\u001b[0mcolumns\u001b[0m\u001b[0;34m:\u001b[0m\u001b[0;34m\u001b[0m\u001b[0;34m\u001b[0m\u001b[0m\n\u001b[1;32m      5\u001b[0m   \u001b[0;32mif\u001b[0m \u001b[0mdata\u001b[0m\u001b[0;34m[\u001b[0m\u001b[0mcolumn\u001b[0m\u001b[0;34m]\u001b[0m\u001b[0;34m.\u001b[0m\u001b[0mdtype\u001b[0m \u001b[0;34m==\u001b[0m \u001b[0;34m'object'\u001b[0m\u001b[0;34m:\u001b[0m\u001b[0;34m\u001b[0m\u001b[0;34m\u001b[0m\u001b[0m\n",
            "\u001b[0;31mNameError\u001b[0m: name 'pd' is not defined"
          ]
        }
      ]
    },
    {
      "cell_type": "code",
      "source": [
        "x = df.drop(\"Taken_product\",axis = 1)\n",
        "y = df[\"Taken_product\"]"
      ],
      "metadata": {
        "id": "i3JWu6i5FuHD"
      },
      "execution_count": null,
      "outputs": []
    },
    {
      "cell_type": "markdown",
      "source": [
        "# **LOGISTIC REGRESSION**"
      ],
      "metadata": {
        "id": "otNuuuaqLAzC"
      }
    },
    {
      "cell_type": "code",
      "source": [
        "from sklearn.model_selection import train_test_split\n",
        "from sklearn.linear_model import LogisticRegression\n",
        "from sklearn.metrics import accuracy_score,classification_report,confusion_matrix\n",
        "from sklearn.preprocessing import StandardScaler\n",
        "\n",
        "x_train,x_test,y_train,y_test = train_test_split(x,y,test_size = 0.2,random_state= 42)\n",
        "scaler = StandardScaler()\n",
        "x_train = scaler.fit_transform(x_train)\n",
        "x_test = scaler.transform(x_test)\n",
        "model = LogisticRegression()\n",
        "model.fit(x_train,y_train)"
      ],
      "metadata": {
        "colab": {
          "base_uri": "https://localhost:8080/",
          "height": 74
        },
        "id": "oJ1M7vgDF-Y0",
        "outputId": "9a803ef3-384c-4755-ca25-7a9cad006bf0"
      },
      "execution_count": null,
      "outputs": [
        {
          "output_type": "execute_result",
          "data": {
            "text/plain": [
              "LogisticRegression()"
            ],
            "text/html": [
              "<style>#sk-container-id-3 {color: black;background-color: white;}#sk-container-id-3 pre{padding: 0;}#sk-container-id-3 div.sk-toggleable {background-color: white;}#sk-container-id-3 label.sk-toggleable__label {cursor: pointer;display: block;width: 100%;margin-bottom: 0;padding: 0.3em;box-sizing: border-box;text-align: center;}#sk-container-id-3 label.sk-toggleable__label-arrow:before {content: \"▸\";float: left;margin-right: 0.25em;color: #696969;}#sk-container-id-3 label.sk-toggleable__label-arrow:hover:before {color: black;}#sk-container-id-3 div.sk-estimator:hover label.sk-toggleable__label-arrow:before {color: black;}#sk-container-id-3 div.sk-toggleable__content {max-height: 0;max-width: 0;overflow: hidden;text-align: left;background-color: #f0f8ff;}#sk-container-id-3 div.sk-toggleable__content pre {margin: 0.2em;color: black;border-radius: 0.25em;background-color: #f0f8ff;}#sk-container-id-3 input.sk-toggleable__control:checked~div.sk-toggleable__content {max-height: 200px;max-width: 100%;overflow: auto;}#sk-container-id-3 input.sk-toggleable__control:checked~label.sk-toggleable__label-arrow:before {content: \"▾\";}#sk-container-id-3 div.sk-estimator input.sk-toggleable__control:checked~label.sk-toggleable__label {background-color: #d4ebff;}#sk-container-id-3 div.sk-label input.sk-toggleable__control:checked~label.sk-toggleable__label {background-color: #d4ebff;}#sk-container-id-3 input.sk-hidden--visually {border: 0;clip: rect(1px 1px 1px 1px);clip: rect(1px, 1px, 1px, 1px);height: 1px;margin: -1px;overflow: hidden;padding: 0;position: absolute;width: 1px;}#sk-container-id-3 div.sk-estimator {font-family: monospace;background-color: #f0f8ff;border: 1px dotted black;border-radius: 0.25em;box-sizing: border-box;margin-bottom: 0.5em;}#sk-container-id-3 div.sk-estimator:hover {background-color: #d4ebff;}#sk-container-id-3 div.sk-parallel-item::after {content: \"\";width: 100%;border-bottom: 1px solid gray;flex-grow: 1;}#sk-container-id-3 div.sk-label:hover label.sk-toggleable__label {background-color: #d4ebff;}#sk-container-id-3 div.sk-serial::before {content: \"\";position: absolute;border-left: 1px solid gray;box-sizing: border-box;top: 0;bottom: 0;left: 50%;z-index: 0;}#sk-container-id-3 div.sk-serial {display: flex;flex-direction: column;align-items: center;background-color: white;padding-right: 0.2em;padding-left: 0.2em;position: relative;}#sk-container-id-3 div.sk-item {position: relative;z-index: 1;}#sk-container-id-3 div.sk-parallel {display: flex;align-items: stretch;justify-content: center;background-color: white;position: relative;}#sk-container-id-3 div.sk-item::before, #sk-container-id-3 div.sk-parallel-item::before {content: \"\";position: absolute;border-left: 1px solid gray;box-sizing: border-box;top: 0;bottom: 0;left: 50%;z-index: -1;}#sk-container-id-3 div.sk-parallel-item {display: flex;flex-direction: column;z-index: 1;position: relative;background-color: white;}#sk-container-id-3 div.sk-parallel-item:first-child::after {align-self: flex-end;width: 50%;}#sk-container-id-3 div.sk-parallel-item:last-child::after {align-self: flex-start;width: 50%;}#sk-container-id-3 div.sk-parallel-item:only-child::after {width: 0;}#sk-container-id-3 div.sk-dashed-wrapped {border: 1px dashed gray;margin: 0 0.4em 0.5em 0.4em;box-sizing: border-box;padding-bottom: 0.4em;background-color: white;}#sk-container-id-3 div.sk-label label {font-family: monospace;font-weight: bold;display: inline-block;line-height: 1.2em;}#sk-container-id-3 div.sk-label-container {text-align: center;}#sk-container-id-3 div.sk-container {/* jupyter's `normalize.less` sets `[hidden] { display: none; }` but bootstrap.min.css set `[hidden] { display: none !important; }` so we also need the `!important` here to be able to override the default hidden behavior on the sphinx rendered scikit-learn.org. See: https://github.com/scikit-learn/scikit-learn/issues/21755 */display: inline-block !important;position: relative;}#sk-container-id-3 div.sk-text-repr-fallback {display: none;}</style><div id=\"sk-container-id-3\" class=\"sk-top-container\"><div class=\"sk-text-repr-fallback\"><pre>LogisticRegression()</pre><b>In a Jupyter environment, please rerun this cell to show the HTML representation or trust the notebook. <br />On GitHub, the HTML representation is unable to render, please try loading this page with nbviewer.org.</b></div><div class=\"sk-container\" hidden><div class=\"sk-item\"><div class=\"sk-estimator sk-toggleable\"><input class=\"sk-toggleable__control sk-hidden--visually\" id=\"sk-estimator-id-3\" type=\"checkbox\" checked><label for=\"sk-estimator-id-3\" class=\"sk-toggleable__label sk-toggleable__label-arrow\">LogisticRegression</label><div class=\"sk-toggleable__content\"><pre>LogisticRegression()</pre></div></div></div></div></div>"
            ]
          },
          "metadata": {},
          "execution_count": 77
        }
      ]
    },
    {
      "cell_type": "code",
      "source": [
        "y_pred_LR = model.predict(x_test)\n",
        "accuracy_LR = accuracy_score(y_test,y_pred_LR)\n",
        "conf_matrix_LR = confusion_matrix(y_test,y_pred_LR)\n",
        "class_report_LR = classification_report(y_test,y_pred_LR)\n",
        "print(\"Accuracy:\",accuracy_LR)\n",
        "print(\"Confusion_matrix:\\n\",conf_matrix_LR)\n",
        "print(\"Classification_report:\\n\",class_report_LR)"
      ],
      "metadata": {
        "colab": {
          "base_uri": "https://localhost:8080/"
        },
        "id": "yBav4XJ_GFpQ",
        "outputId": "f48b760f-1105-41ec-bcfa-625bea2f4519"
      },
      "execution_count": null,
      "outputs": [
        {
          "output_type": "stream",
          "name": "stdout",
          "text": [
            "Accuracy: 0.8571428571428571\n",
            "Confusion_matrix:\n",
            " [[1951   26]\n",
            " [ 310   65]]\n",
            "Classification_report:\n",
            "               precision    recall  f1-score   support\n",
            "\n",
            "           0       0.86      0.99      0.92      1977\n",
            "           1       0.71      0.17      0.28       375\n",
            "\n",
            "    accuracy                           0.86      2352\n",
            "   macro avg       0.79      0.58      0.60      2352\n",
            "weighted avg       0.84      0.86      0.82      2352\n",
            "\n"
          ]
        }
      ]
    },
    {
      "cell_type": "markdown",
      "source": [
        "# **DECISION TREE**"
      ],
      "metadata": {
        "id": "gPKeqmQeLSy5"
      }
    },
    {
      "cell_type": "code",
      "source": [
        "from sklearn.tree import DecisionTreeClassifier\n",
        "\n",
        "D_T = DecisionTreeClassifier(random_state=48)\n",
        "D_T.fit(x_train,y_train)\n",
        "y_pred_DT = D_T.predict(x_test)\n",
        "accuracy_DT = accuracy_score(y_test,y_pred_DT)\n",
        "conf_matrix_DT = confusion_matrix(y_test,y_pred_DT)\n",
        "class_report_DT = classification_report(y_test,y_pred_DT)\n",
        "print('accuracy:',accuracy_DT)\n",
        "print('confusion matrix:\\n',conf_matrix_DT)\n",
        "print('classification report:\\n',class_report_DT)"
      ],
      "metadata": {
        "colab": {
          "base_uri": "https://localhost:8080/"
        },
        "id": "Nm-WA3BtLW5R",
        "outputId": "fd0c9d06-96e0-4dce-ae7f-83b615ca1508"
      },
      "execution_count": null,
      "outputs": [
        {
          "output_type": "stream",
          "name": "stdout",
          "text": [
            "accuracy: 0.9719387755102041\n",
            "confusion matrix:\n",
            " [[1942   35]\n",
            " [  31  344]]\n",
            "classification report:\n",
            "               precision    recall  f1-score   support\n",
            "\n",
            "           0       0.98      0.98      0.98      1977\n",
            "           1       0.91      0.92      0.91       375\n",
            "\n",
            "    accuracy                           0.97      2352\n",
            "   macro avg       0.95      0.95      0.95      2352\n",
            "weighted avg       0.97      0.97      0.97      2352\n",
            "\n"
          ]
        }
      ]
    },
    {
      "cell_type": "markdown",
      "source": [
        "# **RANDOM FOREST**"
      ],
      "metadata": {
        "id": "ErOwTwnvLGyI"
      }
    },
    {
      "cell_type": "code",
      "source": [
        "from sklearn.ensemble import RandomForestClassifier\n",
        "\n",
        "random_forest = RandomForestClassifier(random_state = 100)\n",
        "random_forest.fit(x_train,y_train)\n",
        "y_pred_rf = random_forest.predict(x_test)\n",
        "accuracy_rf = accuracy_score(y_test,y_pred_rf)\n",
        "conf_matrix_rf = confusion_matrix(y_test,y_pred_rf )\n",
        "class_report_rf = classification_report(y_test, y_pred_rf)\n",
        "print(\"RF Accuracy:\",accuracy_rf)\n",
        "print('confusion matrix:\\n', conf_matrix_rf)\n",
        "print('classification report:\\n', class_report_rf)"
      ],
      "metadata": {
        "colab": {
          "base_uri": "https://localhost:8080/"
        },
        "id": "CNPCNyEIGMjB",
        "outputId": "ed04fe8a-ace7-41a8-9084-879bb34c1b51"
      },
      "execution_count": null,
      "outputs": [
        {
          "output_type": "stream",
          "name": "stdout",
          "text": [
            "RF Accuracy: 0.9812925170068028\n",
            "confusion matrix:\n",
            " [[1975    2]\n",
            " [  42  333]]\n",
            "classification report:\n",
            "               precision    recall  f1-score   support\n",
            "\n",
            "           0       0.98      1.00      0.99      1977\n",
            "           1       0.99      0.89      0.94       375\n",
            "\n",
            "    accuracy                           0.98      2352\n",
            "   macro avg       0.99      0.94      0.96      2352\n",
            "weighted avg       0.98      0.98      0.98      2352\n",
            "\n"
          ]
        }
      ]
    },
    {
      "cell_type": "markdown",
      "source": [
        "# **HYPERPARAMETER TUNING**"
      ],
      "metadata": {
        "id": "VygIt3WDLPvm"
      }
    },
    {
      "cell_type": "code",
      "source": [
        "from sklearn.model_selection import GridSearchCV\n",
        "\n",
        "param_grid={\n",
        "    'n_estimators':[10,20,30],\n",
        "    'max_depth':[10,20,30],\n",
        "    'min_samples_split':[2,5,10],\n",
        "    'min_samples_leaf':[1,2,4]\n",
        "}\n",
        "\n",
        "grid_search = GridSearchCV(estimator=random_forest,param_grid=param_grid,cv=5)\n",
        "grid_search.fit(x_train,y_train)\n",
        "best_params = grid_search.best_params_\n",
        "best_rf_classifier = grid_search.best_estimator_\n",
        "\n",
        "print('best parameters:',best_params)\n",
        "\n",
        "test_accuracy_rf = best_rf_classifier.score(x_test,y_test)\n",
        "\n",
        "print('test accuracy:',test_accuracy_rf)"
      ],
      "metadata": {
        "colab": {
          "base_uri": "https://localhost:8080/"
        },
        "id": "sxykYzR-L1MI",
        "outputId": "8af2ebf8-1234-4d97-f391-d39ef172d587"
      },
      "execution_count": null,
      "outputs": [
        {
          "output_type": "stream",
          "name": "stdout",
          "text": [
            "best parameters: {'max_depth': 30, 'min_samples_leaf': 1, 'min_samples_split': 2, 'n_estimators': 30}\n",
            "test accuracy: 0.9778911564625851\n"
          ]
        }
      ]
    },
    {
      "cell_type": "markdown",
      "source": [
        "# **KNN**"
      ],
      "metadata": {
        "id": "zd0rL7CJMm2j"
      }
    },
    {
      "cell_type": "code",
      "source": [
        "from sklearn.neighbors import KNeighborsClassifier\n",
        "\n",
        "knn_classifier = KNeighborsClassifier(n_neighbors=5)\n",
        "knn_classifier.fit(x_train,y_train)"
      ],
      "metadata": {
        "colab": {
          "base_uri": "https://localhost:8080/",
          "height": 74
        },
        "id": "QlhBHciMMaxw",
        "outputId": "96359d31-90ae-4ece-e578-5b74ea12c44a"
      },
      "execution_count": null,
      "outputs": [
        {
          "output_type": "execute_result",
          "data": {
            "text/plain": [
              "KNeighborsClassifier()"
            ],
            "text/html": [
              "<style>#sk-container-id-4 {color: black;background-color: white;}#sk-container-id-4 pre{padding: 0;}#sk-container-id-4 div.sk-toggleable {background-color: white;}#sk-container-id-4 label.sk-toggleable__label {cursor: pointer;display: block;width: 100%;margin-bottom: 0;padding: 0.3em;box-sizing: border-box;text-align: center;}#sk-container-id-4 label.sk-toggleable__label-arrow:before {content: \"▸\";float: left;margin-right: 0.25em;color: #696969;}#sk-container-id-4 label.sk-toggleable__label-arrow:hover:before {color: black;}#sk-container-id-4 div.sk-estimator:hover label.sk-toggleable__label-arrow:before {color: black;}#sk-container-id-4 div.sk-toggleable__content {max-height: 0;max-width: 0;overflow: hidden;text-align: left;background-color: #f0f8ff;}#sk-container-id-4 div.sk-toggleable__content pre {margin: 0.2em;color: black;border-radius: 0.25em;background-color: #f0f8ff;}#sk-container-id-4 input.sk-toggleable__control:checked~div.sk-toggleable__content {max-height: 200px;max-width: 100%;overflow: auto;}#sk-container-id-4 input.sk-toggleable__control:checked~label.sk-toggleable__label-arrow:before {content: \"▾\";}#sk-container-id-4 div.sk-estimator input.sk-toggleable__control:checked~label.sk-toggleable__label {background-color: #d4ebff;}#sk-container-id-4 div.sk-label input.sk-toggleable__control:checked~label.sk-toggleable__label {background-color: #d4ebff;}#sk-container-id-4 input.sk-hidden--visually {border: 0;clip: rect(1px 1px 1px 1px);clip: rect(1px, 1px, 1px, 1px);height: 1px;margin: -1px;overflow: hidden;padding: 0;position: absolute;width: 1px;}#sk-container-id-4 div.sk-estimator {font-family: monospace;background-color: #f0f8ff;border: 1px dotted black;border-radius: 0.25em;box-sizing: border-box;margin-bottom: 0.5em;}#sk-container-id-4 div.sk-estimator:hover {background-color: #d4ebff;}#sk-container-id-4 div.sk-parallel-item::after {content: \"\";width: 100%;border-bottom: 1px solid gray;flex-grow: 1;}#sk-container-id-4 div.sk-label:hover label.sk-toggleable__label {background-color: #d4ebff;}#sk-container-id-4 div.sk-serial::before {content: \"\";position: absolute;border-left: 1px solid gray;box-sizing: border-box;top: 0;bottom: 0;left: 50%;z-index: 0;}#sk-container-id-4 div.sk-serial {display: flex;flex-direction: column;align-items: center;background-color: white;padding-right: 0.2em;padding-left: 0.2em;position: relative;}#sk-container-id-4 div.sk-item {position: relative;z-index: 1;}#sk-container-id-4 div.sk-parallel {display: flex;align-items: stretch;justify-content: center;background-color: white;position: relative;}#sk-container-id-4 div.sk-item::before, #sk-container-id-4 div.sk-parallel-item::before {content: \"\";position: absolute;border-left: 1px solid gray;box-sizing: border-box;top: 0;bottom: 0;left: 50%;z-index: -1;}#sk-container-id-4 div.sk-parallel-item {display: flex;flex-direction: column;z-index: 1;position: relative;background-color: white;}#sk-container-id-4 div.sk-parallel-item:first-child::after {align-self: flex-end;width: 50%;}#sk-container-id-4 div.sk-parallel-item:last-child::after {align-self: flex-start;width: 50%;}#sk-container-id-4 div.sk-parallel-item:only-child::after {width: 0;}#sk-container-id-4 div.sk-dashed-wrapped {border: 1px dashed gray;margin: 0 0.4em 0.5em 0.4em;box-sizing: border-box;padding-bottom: 0.4em;background-color: white;}#sk-container-id-4 div.sk-label label {font-family: monospace;font-weight: bold;display: inline-block;line-height: 1.2em;}#sk-container-id-4 div.sk-label-container {text-align: center;}#sk-container-id-4 div.sk-container {/* jupyter's `normalize.less` sets `[hidden] { display: none; }` but bootstrap.min.css set `[hidden] { display: none !important; }` so we also need the `!important` here to be able to override the default hidden behavior on the sphinx rendered scikit-learn.org. See: https://github.com/scikit-learn/scikit-learn/issues/21755 */display: inline-block !important;position: relative;}#sk-container-id-4 div.sk-text-repr-fallback {display: none;}</style><div id=\"sk-container-id-4\" class=\"sk-top-container\"><div class=\"sk-text-repr-fallback\"><pre>KNeighborsClassifier()</pre><b>In a Jupyter environment, please rerun this cell to show the HTML representation or trust the notebook. <br />On GitHub, the HTML representation is unable to render, please try loading this page with nbviewer.org.</b></div><div class=\"sk-container\" hidden><div class=\"sk-item\"><div class=\"sk-estimator sk-toggleable\"><input class=\"sk-toggleable__control sk-hidden--visually\" id=\"sk-estimator-id-4\" type=\"checkbox\" checked><label for=\"sk-estimator-id-4\" class=\"sk-toggleable__label sk-toggleable__label-arrow\">KNeighborsClassifier</label><div class=\"sk-toggleable__content\"><pre>KNeighborsClassifier()</pre></div></div></div></div></div>"
            ]
          },
          "metadata": {},
          "execution_count": 81
        }
      ]
    },
    {
      "cell_type": "code",
      "source": [
        "y_predict = knn_classifier.predict(x_test)\n",
        "accuracy_knn = accuracy_score(y_test,y_predict)\n",
        "print('Accuracy:',accuracy_knn)\n",
        "print('classification report\\n',classification_report(y_test,y_predict))"
      ],
      "metadata": {
        "colab": {
          "base_uri": "https://localhost:8080/"
        },
        "id": "pmYSaq5BM3_q",
        "outputId": "a6439f62-dd6b-448d-d720-67f60ecd63bb"
      },
      "execution_count": null,
      "outputs": [
        {
          "output_type": "stream",
          "name": "stdout",
          "text": [
            "Accuracy: 0.939625850340136\n",
            "classification report\n",
            "               precision    recall  f1-score   support\n",
            "\n",
            "           0       0.95      0.98      0.96      1977\n",
            "           1       0.90      0.70      0.79       375\n",
            "\n",
            "    accuracy                           0.94      2352\n",
            "   macro avg       0.92      0.84      0.88      2352\n",
            "weighted avg       0.94      0.94      0.94      2352\n",
            "\n"
          ]
        }
      ]
    },
    {
      "cell_type": "markdown",
      "source": [
        "# **SUPPORT VECTOR MACHINE**"
      ],
      "metadata": {
        "id": "k7nodokMNZ24"
      }
    },
    {
      "cell_type": "code",
      "source": [
        "from sklearn.svm import SVC\n",
        "\n",
        "svc = SVC(kernel='linear',random_state=42)\n",
        "svc.fit(x_train,y_train)\n",
        "y_pd = svc.predict(x_test)\n",
        "accuracy_svc = accuracy_score(y_test,y_pd)\n",
        "print('accuracy score:',accuracy_svc)\n",
        "print('confusion matrix:\\n',confusion_matrix(y_test,y_pd))\n",
        "print('classification_report:\\n',classification_report(y_test,y_pd))"
      ],
      "metadata": {
        "colab": {
          "base_uri": "https://localhost:8080/"
        },
        "id": "J1zsl6tkNFXY",
        "outputId": "958cf774-693e-4ba1-a884-da804257932d"
      },
      "execution_count": null,
      "outputs": [
        {
          "output_type": "stream",
          "name": "stdout",
          "text": [
            "accuracy score: 0.8405612244897959\n",
            "confusion matrix:\n",
            " [[1977    0]\n",
            " [ 375    0]]\n",
            "classification_report:\n",
            "               precision    recall  f1-score   support\n",
            "\n",
            "           0       0.84      1.00      0.91      1977\n",
            "           1       0.00      0.00      0.00       375\n",
            "\n",
            "    accuracy                           0.84      2352\n",
            "   macro avg       0.42      0.50      0.46      2352\n",
            "weighted avg       0.71      0.84      0.77      2352\n",
            "\n"
          ]
        },
        {
          "output_type": "stream",
          "name": "stderr",
          "text": [
            "/usr/local/lib/python3.10/dist-packages/sklearn/metrics/_classification.py:1344: UndefinedMetricWarning: Precision and F-score are ill-defined and being set to 0.0 in labels with no predicted samples. Use `zero_division` parameter to control this behavior.\n",
            "  _warn_prf(average, modifier, msg_start, len(result))\n",
            "/usr/local/lib/python3.10/dist-packages/sklearn/metrics/_classification.py:1344: UndefinedMetricWarning: Precision and F-score are ill-defined and being set to 0.0 in labels with no predicted samples. Use `zero_division` parameter to control this behavior.\n",
            "  _warn_prf(average, modifier, msg_start, len(result))\n",
            "/usr/local/lib/python3.10/dist-packages/sklearn/metrics/_classification.py:1344: UndefinedMetricWarning: Precision and F-score are ill-defined and being set to 0.0 in labels with no predicted samples. Use `zero_division` parameter to control this behavior.\n",
            "  _warn_prf(average, modifier, msg_start, len(result))\n"
          ]
        }
      ]
    },
    {
      "cell_type": "markdown",
      "source": [
        "# **NAIVE BAYES**"
      ],
      "metadata": {
        "id": "X46FiOH_OJCj"
      }
    },
    {
      "cell_type": "code",
      "source": [
        "from sklearn.naive_bayes import GaussianNB\n",
        "\n",
        "gnb = GaussianNB()\n",
        "gnb.fit(x_train,y_train)\n",
        "predicting = gnb.predict(x_test)\n",
        "accuracy_gnb = accuracy_score(y_test,predicting)\n",
        "print('accuracy:',accuracy_gnb)"
      ],
      "metadata": {
        "colab": {
          "base_uri": "https://localhost:8080/"
        },
        "id": "DDWFNHA8OZbN",
        "outputId": "e8af9257-8dc9-45ca-a865-21e8f49448e1"
      },
      "execution_count": null,
      "outputs": [
        {
          "output_type": "stream",
          "name": "stdout",
          "text": [
            "accuracy: 0.8618197278911565\n"
          ]
        }
      ]
    },
    {
      "cell_type": "code",
      "source": [
        "print('accuracy:',accuracy_gnb)\n",
        "print('confusion matrix:\\n',confusion_matrix(y_test,predicting))\n",
        "print('classification_report:\\n',classification_report(y_test,predicting))"
      ],
      "metadata": {
        "colab": {
          "base_uri": "https://localhost:8080/"
        },
        "id": "LnrgT9SO_zJe",
        "outputId": "34969edf-ecf7-42ad-ed6b-89c74e9f56a7"
      },
      "execution_count": null,
      "outputs": [
        {
          "output_type": "stream",
          "name": "stdout",
          "text": [
            "accuracy: 0.8507653061224489\n",
            "confusion matrix:\n",
            " [[1880   78]\n",
            " [ 273  121]]\n",
            "classification_report:\n",
            "               precision    recall  f1-score   support\n",
            "\n",
            "           0       0.87      0.96      0.91      1958\n",
            "           1       0.61      0.31      0.41       394\n",
            "\n",
            "    accuracy                           0.85      2352\n",
            "   macro avg       0.74      0.63      0.66      2352\n",
            "weighted avg       0.83      0.85      0.83      2352\n",
            "\n"
          ]
        }
      ]
    },
    {
      "cell_type": "code",
      "source": [
        "! pip install xgboost"
      ],
      "metadata": {
        "id": "28iy9yxMT6pU"
      },
      "execution_count": null,
      "outputs": []
    },
    {
      "cell_type": "code",
      "source": [
        "from xgboost import XGBClassifier\n",
        "\n",
        "xg_cl = XGBClassifier(random_state = 42)\n",
        "xg_cl.fit(x_train,y_train)\n",
        "xgb_pred = xg_cl.predict(x_test)\n",
        "accuracy_xgb = accuracy_score(y_test,xgb_pred)\n",
        "conf_matrix_xgb = confusion_matrix(y_test,xgb_pred )\n",
        "class_report_xgb = classification_report(y_test, xgb_pred)\n",
        "print(\"RF Accuracy:\",accuracy_xgb)\n",
        "print('confusion matrix:\\n', conf_matrix_xgb)\n",
        "print('classification report:\\n', class_report_xgb)"
      ],
      "metadata": {
        "colab": {
          "base_uri": "https://localhost:8080/"
        },
        "id": "t418-j6uUnHh",
        "outputId": "c8fdb7a0-c34f-44f0-9701-c074a5ad3716"
      },
      "execution_count": null,
      "outputs": [
        {
          "output_type": "stream",
          "name": "stdout",
          "text": [
            "RF Accuracy: 0.9902210884353742\n",
            "confusion matrix:\n",
            " [[1975    2]\n",
            " [  21  354]]\n",
            "classification report:\n",
            "               precision    recall  f1-score   support\n",
            "\n",
            "           0       0.99      1.00      0.99      1977\n",
            "           1       0.99      0.94      0.97       375\n",
            "\n",
            "    accuracy                           0.99      2352\n",
            "   macro avg       0.99      0.97      0.98      2352\n",
            "weighted avg       0.99      0.99      0.99      2352\n",
            "\n"
          ]
        }
      ]
    },
    {
      "cell_type": "code",
      "source": [
        "Total_Accuracy = ['LR','DT','SVC','KNN','NBC','RF','XGBoost']\n",
        "Predicted = [accuracy_LR,accuracy_DT,accuracy_svc,accuracy_knn,accuracy_gnb,accuracy_rf,accuracy_xgb]\n",
        "colors = ['aquamarine','mediumseagreen','xkcd:sky blue','tab:orange','tab:cyan','tab:brown','tab:purple']\n",
        "plt.bar(Total_Accuracy,Predicted,color=colors)\n",
        "plt.xlabel(\"Models\")\n",
        "plt.ylabel(\"Accuracy\")"
      ],
      "metadata": {
        "colab": {
          "base_uri": "https://localhost:8080/",
          "height": 467
        },
        "id": "kC6KbME3RHr4",
        "outputId": "d0eb2a38-4a92-4d2c-9287-dae96647aa38"
      },
      "execution_count": null,
      "outputs": [
        {
          "output_type": "execute_result",
          "data": {
            "text/plain": [
              "Text(0, 0.5, 'Accuracy')"
            ]
          },
          "metadata": {},
          "execution_count": 86
        },
        {
          "output_type": "display_data",
          "data": {
            "text/plain": [
              "<Figure size 640x480 with 1 Axes>"
            ],
            "image/png": "[encoded data removed]"
          },
          "metadata": {}
        }
      ]
    },
    {
      "cell_type": "code",
      "source": [
        "from tabulate import tabulate\n",
        "data = [['LOGISTIC REGRESSION',accuracy_LR],\n",
        "        [\"DECISION TREE\",accuracy_DT],\n",
        "        [\"RANDOM FOREST\",accuracy_rf],\n",
        "        ['SUPPORT VECTOR CLASSIFIER',accuracy_svc],\n",
        "        ['KNN',accuracy_knn],\n",
        "        [\"NAVIE BAYES\",accuracy_gnb],\n",
        "        [\"XG BOOST\",accuracy_xgb]]\n",
        "\n",
        "col_names = [\"Model\", \"accuracy score\"]\n",
        "print(tabulate(data, headers=[\"MODEL\",\"ACCURACY SCORE\"], tablefmt=\"fancy_grid\"))"
      ],
      "metadata": {
        "colab": {
          "base_uri": "https://localhost:8080/"
        },
        "id": "WI2r_Pb0WllN",
        "outputId": "5372c5c2-3f2c-4a44-b8cc-dab9abda53ca"
      },
      "execution_count": null,
      "outputs": [
        {
          "output_type": "stream",
          "name": "stdout",
          "text": [
            "╒═══════════════════════════╤══════════════════╕\n",
            "│ MODEL                     │   ACCURACY SCORE │\n",
            "╞═══════════════════════════╪══════════════════╡\n",
            "│ LOGISTIC REGRESSION       │         0.857143 │\n",
            "├───────────────────────────┼──────────────────┤\n",
            "│ DECISION TREE             │         0.971939 │\n",
            "├───────────────────────────┼──────────────────┤\n",
            "│ RANDOM FOREST             │         0.981293 │\n",
            "├───────────────────────────┼──────────────────┤\n",
            "│ SUPPORT VECTOR CLASSIFIER │         0.840561 │\n",
            "├───────────────────────────┼──────────────────┤\n",
            "│ KNN                       │         0.939626 │\n",
            "├───────────────────────────┼──────────────────┤\n",
            "│ NAVIE BAYES               │         0.86182  │\n",
            "├───────────────────────────┼──────────────────┤\n",
            "│ XG BOOST                  │         0.990221 │\n",
            "╘═══════════════════════════╧══════════════════╛\n"
          ]
        }
      ]
    },
    {
      "cell_type": "markdown",
      "source": [
        "**XGB Classifier performs well on Customer Behaviour Tourism Data**"
      ],
      "metadata": {
        "id": "fJAuv9j_YQSl"
      }
    }
  ]
}